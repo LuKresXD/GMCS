{
 "cells": [
  {
   "cell_type": "markdown",
   "metadata": {},
   "source": [
    "# Kaggle Amazon"
   ]
  },
  {
   "metadata": {},
   "cell_type": "markdown",
   "source": [
    "В этом туториале показана основная функциональность библиотеки CatBoost с использованием датасета Amazon.\n",
    "\n",
    "Полную верcию этого ноутбука можно найти в официальном [репозитории](https://github.com/catboost/tutorials) с туториалами CatBoost.\n",
    "\n",
    "\n",
    "Когда сотрудник любой компании приступает к работе, ему сначала нужно получить доступ к компьютеру, необходимый для выполнения своей роли. Этот доступ может позволить сотруднику читать/манипулировать ресурсами через различные приложения или веб-порталы. Предполагается, что сотрудники, выполняющие функции определенной роли, будут иметь доступ к одним и тем же или аналогичным ресурсам. Часто бывает так, что сотрудники выясняют, какой доступ им нужен, когда сталкиваются с препятствиями в своей повседневной работе (например, не могут войти на портал отчетности). Тогда опытный руководитель тратит время на то, чтобы вручную предоставить необходимый доступ, чтобы преодолеть препятствия. Поскольку сотрудники перемещаются по компании, этот цикл поиска/восстановления доступа отнимает нетривиальное количество времени и денег.\n",
    "\n",
    "Существует значительный объем данных о роли сотрудника в организации и ресурсах, к которым он имеет доступ. Учитывая данные о текущих сотрудниках и предоставленном им доступе, можно построить модели, которые будут автоматически определять привилегии доступа по мере того, как сотрудники будут входить и выходить из ролей в компании. Эти модели автоматического доступа призваны свести к минимуму участие человека, необходимое для предоставления или отзыва доступа сотрудников.\n",
    "\n",
    "Задача данного исследования - построить модель, обучаемую на основе исторических данных, которая будет определять потребности сотрудника в доступе. \n",
    "Модель будет принимать информацию о роли сотрудника и код ресурса и выдавать ответ, следует ли предоставлять доступ к этому ресурсу.\n"
   ]
  },
  {
   "cell_type": "markdown",
   "metadata": {},
   "source": [
    "# Чтение данных"
   ]
  },
  {
   "cell_type": "code",
   "metadata": {
    "collapsed": true,
    "ExecuteTime": {
     "end_time": "2024-06-02T21:39:36.592493Z",
     "start_time": "2024-06-02T21:39:36.276239Z"
    }
   },
   "source": [
    "import pandas as pd\n",
    "train_df = pd.read_csv('amazon/train.csv')\n",
    "test_df = pd.read_csv('amazon/test.csv')"
   ],
   "outputs": [],
   "execution_count": 2
  },
  {
   "cell_type": "code",
   "metadata": {
    "collapsed": true,
    "ExecuteTime": {
     "end_time": "2024-06-02T21:39:36.998006Z",
     "start_time": "2024-06-02T21:39:36.988022Z"
    }
   },
   "source": [
    "train_df.head()"
   ],
   "outputs": [
    {
     "data": {
      "text/plain": [
       "   ACTION  RESOURCE  MGR_ID  ROLE_ROLLUP_1  ROLE_ROLLUP_2  ROLE_DEPTNAME  \\\n",
       "0       1     39353   85475         117961         118300         123472   \n",
       "1       1     17183    1540         117961         118343         123125   \n",
       "2       1     36724   14457         118219         118220         117884   \n",
       "3       1     36135    5396         117961         118343         119993   \n",
       "4       1     42680    5905         117929         117930         119569   \n",
       "\n",
       "   ROLE_TITLE  ROLE_FAMILY_DESC  ROLE_FAMILY  ROLE_CODE  \n",
       "0      117905            117906       290919     117908  \n",
       "1      118536            118536       308574     118539  \n",
       "2      117879            267952        19721     117880  \n",
       "3      118321            240983       290919     118322  \n",
       "4      119323            123932        19793     119325  "
      ],
      "text/html": [
       "<div>\n",
       "<style scoped>\n",
       "    .dataframe tbody tr th:only-of-type {\n",
       "        vertical-align: middle;\n",
       "    }\n",
       "\n",
       "    .dataframe tbody tr th {\n",
       "        vertical-align: top;\n",
       "    }\n",
       "\n",
       "    .dataframe thead th {\n",
       "        text-align: right;\n",
       "    }\n",
       "</style>\n",
       "<table border=\"1\" class=\"dataframe\">\n",
       "  <thead>\n",
       "    <tr style=\"text-align: right;\">\n",
       "      <th></th>\n",
       "      <th>ACTION</th>\n",
       "      <th>RESOURCE</th>\n",
       "      <th>MGR_ID</th>\n",
       "      <th>ROLE_ROLLUP_1</th>\n",
       "      <th>ROLE_ROLLUP_2</th>\n",
       "      <th>ROLE_DEPTNAME</th>\n",
       "      <th>ROLE_TITLE</th>\n",
       "      <th>ROLE_FAMILY_DESC</th>\n",
       "      <th>ROLE_FAMILY</th>\n",
       "      <th>ROLE_CODE</th>\n",
       "    </tr>\n",
       "  </thead>\n",
       "  <tbody>\n",
       "    <tr>\n",
       "      <th>0</th>\n",
       "      <td>1</td>\n",
       "      <td>39353</td>\n",
       "      <td>85475</td>\n",
       "      <td>117961</td>\n",
       "      <td>118300</td>\n",
       "      <td>123472</td>\n",
       "      <td>117905</td>\n",
       "      <td>117906</td>\n",
       "      <td>290919</td>\n",
       "      <td>117908</td>\n",
       "    </tr>\n",
       "    <tr>\n",
       "      <th>1</th>\n",
       "      <td>1</td>\n",
       "      <td>17183</td>\n",
       "      <td>1540</td>\n",
       "      <td>117961</td>\n",
       "      <td>118343</td>\n",
       "      <td>123125</td>\n",
       "      <td>118536</td>\n",
       "      <td>118536</td>\n",
       "      <td>308574</td>\n",
       "      <td>118539</td>\n",
       "    </tr>\n",
       "    <tr>\n",
       "      <th>2</th>\n",
       "      <td>1</td>\n",
       "      <td>36724</td>\n",
       "      <td>14457</td>\n",
       "      <td>118219</td>\n",
       "      <td>118220</td>\n",
       "      <td>117884</td>\n",
       "      <td>117879</td>\n",
       "      <td>267952</td>\n",
       "      <td>19721</td>\n",
       "      <td>117880</td>\n",
       "    </tr>\n",
       "    <tr>\n",
       "      <th>3</th>\n",
       "      <td>1</td>\n",
       "      <td>36135</td>\n",
       "      <td>5396</td>\n",
       "      <td>117961</td>\n",
       "      <td>118343</td>\n",
       "      <td>119993</td>\n",
       "      <td>118321</td>\n",
       "      <td>240983</td>\n",
       "      <td>290919</td>\n",
       "      <td>118322</td>\n",
       "    </tr>\n",
       "    <tr>\n",
       "      <th>4</th>\n",
       "      <td>1</td>\n",
       "      <td>42680</td>\n",
       "      <td>5905</td>\n",
       "      <td>117929</td>\n",
       "      <td>117930</td>\n",
       "      <td>119569</td>\n",
       "      <td>119323</td>\n",
       "      <td>123932</td>\n",
       "      <td>19793</td>\n",
       "      <td>119325</td>\n",
       "    </tr>\n",
       "  </tbody>\n",
       "</table>\n",
       "</div>"
      ]
     },
     "execution_count": 3,
     "metadata": {},
     "output_type": "execute_result"
    }
   ],
   "execution_count": 3
  },
  {
   "cell_type": "markdown",
   "metadata": {},
   "source": [
    "# Подготовка датасета"
   ]
  },
  {
   "cell_type": "markdown",
   "metadata": {},
   "source": [
    "Выделение целевой переменной"
   ]
  },
  {
   "cell_type": "code",
   "metadata": {
    "collapsed": true,
    "ExecuteTime": {
     "end_time": "2024-06-02T21:39:38.311594Z",
     "start_time": "2024-06-02T21:39:38.308972Z"
    }
   },
   "source": [
    "y = train_df.ACTION\n",
    "X = train_df.drop('ACTION', axis=1)"
   ],
   "outputs": [],
   "execution_count": 4
  },
  {
   "cell_type": "markdown",
   "metadata": {},
   "source": [
    "Объявление категориальных факторов"
   ]
  },
  {
   "cell_type": "code",
   "metadata": {
    "collapsed": true,
    "ExecuteTime": {
     "end_time": "2024-06-02T21:39:39.488404Z",
     "start_time": "2024-06-02T21:39:39.486313Z"
    }
   },
   "source": [
    "cat_features = range(0, X.shape[1])\n",
    "print (cat_features)"
   ],
   "outputs": [
    {
     "name": "stdout",
     "output_type": "stream",
     "text": [
      "range(0, 9)\n"
     ]
    }
   ],
   "execution_count": 5
  },
  {
   "cell_type": "markdown",
   "metadata": {},
   "source": [
    "# Обучение модели"
   ]
  },
  {
   "cell_type": "markdown",
   "metadata": {},
   "source": [
    "Разделение данных на train и validation"
   ]
  },
  {
   "cell_type": "code",
   "metadata": {
    "collapsed": true,
    "ExecuteTime": {
     "end_time": "2024-06-02T21:39:41.195616Z",
     "start_time": "2024-06-02T21:39:40.928375Z"
    }
   },
   "source": [
    "from sklearn.model_selection import train_test_split\n",
    "X_train, X_validation, y_train, y_validation = train_test_split(X, y, train_size=0.8, random_state=1234)"
   ],
   "outputs": [],
   "execution_count": 6
  },
  {
   "cell_type": "markdown",
   "metadata": {},
   "source": [
    "Обучение модели"
   ]
  },
  {
   "cell_type": "code",
   "metadata": {
    "collapsed": true,
    "ExecuteTime": {
     "end_time": "2024-06-02T21:39:42.720008Z",
     "start_time": "2024-06-02T21:39:42.532864Z"
    }
   },
   "source": [
    "from catboost import CatBoostClassifier\n",
    "model = CatBoostClassifier(\n",
    "    thread_count=2,\n",
    "    iterations=5,\n",
    "    random_seed=1136926949945377,\n",
    ")\n",
    "model.fit(\n",
    "    X_train, y_train,\n",
    "    cat_features=cat_features,\n",
    "    eval_set=(X_validation, y_validation),\n",
    "    logging_level='Silent'\n",
    ")"
   ],
   "outputs": [
    {
     "data": {
      "text/plain": [
       "<catboost.core.CatBoostClassifier at 0x168434fa0>"
      ]
     },
     "execution_count": 7,
     "metadata": {},
     "output_type": "execute_result"
    }
   ],
   "execution_count": 7
  },
  {
   "cell_type": "code",
   "metadata": {
    "collapsed": true,
    "ExecuteTime": {
     "end_time": "2024-06-02T21:39:43.285819Z",
     "start_time": "2024-06-02T21:39:43.282502Z"
    }
   },
   "source": [
    "print (model.random_seed_)"
   ],
   "outputs": [
    {
     "name": "stdout",
     "output_type": "stream",
     "text": [
      "1136926949945377\n"
     ]
    }
   ],
   "execution_count": 8
  },
  {
   "cell_type": "code",
   "metadata": {
    "collapsed": true,
    "ExecuteTime": {
     "end_time": "2024-06-02T21:39:51.267211Z",
     "start_time": "2024-06-02T21:39:43.540179Z"
    }
   },
   "source": [
    "from catboost import CatBoostClassifier\n",
    "model = CatBoostClassifier(\n",
    "    thread_count=2,\n",
    "    iterations=300,\n",
    "    learning_rate=0.1,\n",
    "    random_seed=63,\n",
    "    custom_loss=['AUC', 'Accuracy'],\n",
    "    use_best_model=True\n",
    ")\n",
    "model.fit(\n",
    "    X_train, y_train,\n",
    "    cat_features=cat_features,\n",
    "    eval_set=(X_validation, y_validation),\n",
    "    logging_level='Silent',\n",
    "    plot=True\n",
    ")"
   ],
   "outputs": [
    {
     "data": {
      "text/plain": [
       "MetricVisualizer(layout=Layout(align_self='stretch', height='500px'))"
      ],
      "application/vnd.jupyter.widget-view+json": {
       "version_major": 2,
       "version_minor": 0,
       "model_id": "639decfa89c74644a7e53d732eb9aa13"
      }
     },
     "metadata": {},
     "output_type": "display_data"
    },
    {
     "data": {
      "text/plain": [
       "<catboost.core.CatBoostClassifier at 0x1686fa790>"
      ]
     },
     "execution_count": 9,
     "metadata": {},
     "output_type": "execute_result"
    }
   ],
   "execution_count": 9
  },
  {
   "cell_type": "code",
   "metadata": {
    "collapsed": true,
    "ExecuteTime": {
     "end_time": "2024-06-02T21:39:56.676428Z",
     "start_time": "2024-06-02T21:39:56.673521Z"
    }
   },
   "source": [
    "print ('Model is fitted:', model.is_fitted())"
   ],
   "outputs": [
    {
     "name": "stdout",
     "output_type": "stream",
     "text": [
      "Model is fitted: True\n"
     ]
    }
   ],
   "execution_count": 10
  },
  {
   "cell_type": "code",
   "metadata": {
    "collapsed": true,
    "ExecuteTime": {
     "end_time": "2024-06-02T21:39:57.437259Z",
     "start_time": "2024-06-02T21:39:57.434976Z"
    }
   },
   "source": [
    "print ('Model params:', model.get_params())"
   ],
   "outputs": [
    {
     "name": "stdout",
     "output_type": "stream",
     "text": [
      "Model params: {'iterations': 300, 'learning_rate': 0.1, 'thread_count': 2, 'random_seed': 63, 'use_best_model': True, 'custom_loss': ['AUC', 'Accuracy']}\n"
     ]
    }
   ],
   "execution_count": 11
  },
  {
   "cell_type": "code",
   "metadata": {
    "collapsed": true,
    "ExecuteTime": {
     "end_time": "2024-06-02T21:39:58.231966Z",
     "start_time": "2024-06-02T21:39:58.229606Z"
    }
   },
   "source": [
    "print ('Resulting tree count:', model.tree_count_)"
   ],
   "outputs": [
    {
     "name": "stdout",
     "output_type": "stream",
     "text": [
      "Resulting tree count: 235\n"
     ]
    }
   ],
   "execution_count": 12
  },
  {
   "cell_type": "markdown",
   "metadata": {},
   "source": [
    "# Способы задания датасета"
   ]
  },
  {
   "cell_type": "code",
   "metadata": {
    "ExecuteTime": {
     "end_time": "2024-06-02T21:39:59.531226Z",
     "start_time": "2024-06-02T21:39:59.526886Z"
    }
   },
   "source": [
    "from catboost.utils import create_cd\n",
    "import os\n",
    "\n",
    "feature_names = dict()\n",
    "for column, name in enumerate(train_df):\n",
    "    if column == 0:\n",
    "        continue\n",
    "    feature_names[column] = name\n",
    "    \n",
    "create_cd(\n",
    "    label=0, \n",
    "    cat_features=list(range(1, train_df.columns.shape[0])),\n",
    "    feature_names=feature_names,\n",
    "    output_path='amazon/test.cd'\n",
    ")"
   ],
   "outputs": [],
   "execution_count": 13
  },
  {
   "cell_type": "code",
   "metadata": {
    "ExecuteTime": {
     "end_time": "2024-06-02T21:40:00.970558Z",
     "start_time": "2024-06-02T21:40:00.834556Z"
    }
   },
   "source": [
    "!cat amazon/test.cd"
   ],
   "outputs": [
    {
     "name": "stdout",
     "output_type": "stream",
     "text": [
      "0\tLabel\t\r\n",
      "1\tCateg\tRESOURCE\r\n",
      "2\tCateg\tMGR_ID\r\n",
      "3\tCateg\tROLE_ROLLUP_1\r\n",
      "4\tCateg\tROLE_ROLLUP_2\r\n",
      "5\tCateg\tROLE_DEPTNAME\r\n",
      "6\tCateg\tROLE_TITLE\r\n",
      "7\tCateg\tROLE_FAMILY_DESC\r\n",
      "8\tCateg\tROLE_FAMILY\r\n",
      "9\tCateg\tROLE_CODE\r\n"
     ]
    }
   ],
   "execution_count": 14
  },
  {
   "cell_type": "code",
   "metadata": {
    "collapsed": true,
    "ExecuteTime": {
     "end_time": "2024-06-02T21:40:05.118222Z",
     "start_time": "2024-06-02T21:40:05.056950Z"
    }
   },
   "source": [
    "import numpy as np\n",
    "from catboost import Pool\n",
    "pool1 = Pool(data=X, label=y, cat_features=cat_features)\n",
    "pool2 = Pool(data='amazon/train.csv', delimiter=',', has_header=True, column_description='amazon/test.cd', thread_count=2)\n",
    "\n",
    "print ('Dataset shape')\n",
    "\n",
    "print ('dataset 1:', pool1.shape, '\\ndataset 2:', pool2.shape)\n",
    "\n",
    "\n",
    "print ('Column names')\n",
    "print ('dataset 1:', pool1.get_feature_names(), '\\ndataset 2:',  pool1.get_feature_names())"
   ],
   "outputs": [
    {
     "name": "stdout",
     "output_type": "stream",
     "text": [
      "Dataset shape\n",
      "dataset 1: (32769, 9) \n",
      "dataset 2: (32769, 9)\n",
      "Column names\n",
      "dataset 1: ['RESOURCE', 'MGR_ID', 'ROLE_ROLLUP_1', 'ROLE_ROLLUP_2', 'ROLE_DEPTNAME', 'ROLE_TITLE', 'ROLE_FAMILY_DESC', 'ROLE_FAMILY', 'ROLE_CODE'] \n",
      "dataset 2: ['RESOURCE', 'MGR_ID', 'ROLE_ROLLUP_1', 'ROLE_ROLLUP_2', 'ROLE_DEPTNAME', 'ROLE_TITLE', 'ROLE_FAMILY_DESC', 'ROLE_FAMILY', 'ROLE_CODE']\n"
     ]
    }
   ],
   "execution_count": 15
  },
  {
   "cell_type": "markdown",
   "metadata": {},
   "source": [
    "# Кросс-валидация"
   ]
  },
  {
   "cell_type": "code",
   "metadata": {
    "collapsed": true,
    "ExecuteTime": {
     "end_time": "2024-06-02T21:40:12.969504Z",
     "start_time": "2024-06-02T21:40:06.474431Z"
    }
   },
   "source": [
    "from catboost import cv\n",
    "\n",
    "params = {}\n",
    "params['loss_function'] = 'Logloss'\n",
    "params['iterations'] = 80\n",
    "params['custom_loss'] = 'AUC'\n",
    "params['random_seed'] = 63\n",
    "params['learning_rate'] = 0.5\n",
    "\n",
    "cv_data = cv(\n",
    "    params = params,\n",
    "    pool = Pool(X, label=y, cat_features=cat_features),\n",
    "    fold_count=5,\n",
    "    shuffle=True,\n",
    "    partition_random_seed=0,\n",
    "    plot=True,\n",
    "    stratified=False,\n",
    "    verbose=False\n",
    ")"
   ],
   "outputs": [
    {
     "data": {
      "text/plain": [
       "MetricVisualizer(layout=Layout(align_self='stretch', height='500px'))"
      ],
      "application/vnd.jupyter.widget-view+json": {
       "version_major": 2,
       "version_minor": 0,
       "model_id": "0be270a8caae4e35ad0e0ac11564e1ec"
      }
     },
     "metadata": {},
     "output_type": "display_data"
    },
    {
     "name": "stdout",
     "output_type": "stream",
     "text": [
      "Training on fold [0/5]\n",
      "\n",
      "bestTest = 0.1674879003\n",
      "bestIteration = 36\n",
      "\n",
      "Training on fold [1/5]\n",
      "\n",
      "bestTest = 0.1642588398\n",
      "bestIteration = 56\n",
      "\n",
      "Training on fold [2/5]\n",
      "\n",
      "bestTest = 0.1525678298\n",
      "bestIteration = 79\n",
      "\n",
      "Training on fold [3/5]\n",
      "\n",
      "bestTest = 0.1426916182\n",
      "bestIteration = 78\n",
      "\n",
      "Training on fold [4/5]\n",
      "\n",
      "bestTest = 0.1560519524\n",
      "bestIteration = 55\n",
      "\n"
     ]
    }
   ],
   "execution_count": 16
  },
  {
   "cell_type": "code",
   "metadata": {
    "collapsed": true,
    "ExecuteTime": {
     "end_time": "2024-06-02T21:40:15.530249Z",
     "start_time": "2024-06-02T21:40:15.517156Z"
    }
   },
   "source": [
    "import numpy as np\n",
    "np.set_printoptions(precision=3)\n",
    "\n",
    "for name, values in cv_data.items():\n",
    "    print (name + ':')\n",
    "    print (np.array(values))\n",
    "    print ('\\n')"
   ],
   "outputs": [
    {
     "name": "stdout",
     "output_type": "stream",
     "text": [
      "iterations:\n",
      "[ 0  1  2  3  4  5  6  7  8  9 10 11 12 13 14 15 16 17 18 19 20 21 22 23\n",
      " 24 25 26 27 28 29 30 31 32 33 34 35 36 37 38 39 40 41 42 43 44 45 46 47\n",
      " 48 49 50 51 52 53 54 55 56 57 58 59 60 61 62 63 64 65 66 67 68 69 70 71\n",
      " 72 73 74 75 76 77 78 79]\n",
      "\n",
      "\n",
      "test-Logloss-mean:\n",
      "[0.302 0.227 0.19  0.178 0.172 0.168 0.165 0.164 0.163 0.163 0.162 0.161\n",
      " 0.161 0.161 0.16  0.16  0.16  0.16  0.16  0.16  0.16  0.159 0.159 0.159\n",
      " 0.159 0.159 0.158 0.159 0.158 0.158 0.158 0.159 0.158 0.158 0.158 0.158\n",
      " 0.158 0.158 0.158 0.158 0.158 0.158 0.158 0.158 0.158 0.158 0.158 0.158\n",
      " 0.158 0.158 0.158 0.158 0.158 0.158 0.158 0.158 0.158 0.158 0.158 0.158\n",
      " 0.158 0.158 0.158 0.158 0.158 0.158 0.158 0.158 0.158 0.158 0.158 0.158\n",
      " 0.158 0.158 0.158 0.158 0.158 0.158 0.158 0.158]\n",
      "\n",
      "\n",
      "test-Logloss-std:\n",
      "[0.004 0.008 0.006 0.007 0.007 0.007 0.008 0.008 0.008 0.008 0.008 0.008\n",
      " 0.008 0.007 0.007 0.007 0.007 0.007 0.007 0.008 0.008 0.007 0.008 0.007\n",
      " 0.008 0.008 0.008 0.008 0.008 0.008 0.008 0.008 0.008 0.008 0.008 0.008\n",
      " 0.008 0.008 0.008 0.009 0.009 0.009 0.009 0.009 0.009 0.009 0.009 0.009\n",
      " 0.009 0.009 0.009 0.009 0.009 0.009 0.009 0.009 0.009 0.009 0.009 0.009\n",
      " 0.009 0.009 0.009 0.009 0.009 0.01  0.01  0.01  0.01  0.01  0.01  0.01\n",
      " 0.01  0.01  0.01  0.01  0.01  0.01  0.01  0.011]\n",
      "\n",
      "\n",
      "train-Logloss-mean:\n",
      "[0.302 0.228 0.196 0.186 0.181 0.178 0.175 0.174 0.173 0.172 0.171 0.17\n",
      " 0.17  0.169 0.169 0.168 0.168 0.167 0.167 0.166 0.165 0.165 0.165 0.164\n",
      " 0.164 0.163 0.163 0.163 0.162 0.162 0.161 0.161 0.16  0.16  0.16  0.159\n",
      " 0.159 0.158 0.158 0.158 0.157 0.157 0.156 0.156 0.156 0.155 0.155 0.154\n",
      " 0.154 0.153 0.153 0.153 0.152 0.152 0.152 0.151 0.151 0.151 0.15  0.15\n",
      " 0.149 0.149 0.149 0.148 0.148 0.148 0.147 0.147 0.147 0.147 0.146 0.146\n",
      " 0.145 0.145 0.145 0.145 0.144 0.144 0.144 0.143]\n",
      "\n",
      "\n",
      "train-Logloss-std:\n",
      "[0.005 0.005 0.004 0.004 0.002 0.003 0.003 0.002 0.002 0.002 0.002 0.002\n",
      " 0.002 0.002 0.002 0.002 0.002 0.002 0.002 0.002 0.002 0.002 0.002 0.002\n",
      " 0.002 0.002 0.002 0.002 0.003 0.003 0.003 0.003 0.002 0.002 0.002 0.002\n",
      " 0.002 0.002 0.002 0.003 0.002 0.003 0.002 0.003 0.003 0.003 0.003 0.003\n",
      " 0.003 0.003 0.003 0.003 0.003 0.003 0.003 0.003 0.003 0.003 0.003 0.003\n",
      " 0.002 0.002 0.002 0.002 0.002 0.003 0.003 0.003 0.003 0.003 0.003 0.002\n",
      " 0.002 0.002 0.003 0.002 0.003 0.002 0.002 0.003]\n",
      "\n",
      "\n",
      "test-AUC-mean:\n",
      "[0.514 0.64  0.798 0.815 0.827 0.837 0.844 0.846 0.848 0.847 0.848 0.85\n",
      " 0.851 0.852 0.852 0.853 0.853 0.853 0.853 0.853 0.853 0.854 0.854 0.854\n",
      " 0.854 0.855 0.856 0.856 0.856 0.856 0.856 0.856 0.856 0.857 0.857 0.857\n",
      " 0.857 0.857 0.858 0.858 0.857 0.857 0.857 0.857 0.857 0.856 0.856 0.856\n",
      " 0.856 0.857 0.857 0.857 0.857 0.857 0.857 0.857 0.858 0.857 0.857 0.857\n",
      " 0.857 0.858 0.858 0.858 0.858 0.858 0.858 0.857 0.857 0.857 0.857 0.857\n",
      " 0.857 0.857 0.857 0.857 0.857 0.857 0.856 0.857]\n",
      "\n",
      "\n",
      "test-AUC-std:\n",
      "[0.03  0.047 0.012 0.01  0.005 0.008 0.007 0.007 0.006 0.007 0.006 0.006\n",
      " 0.006 0.006 0.005 0.005 0.005 0.006 0.006 0.006 0.006 0.006 0.006 0.006\n",
      " 0.006 0.006 0.006 0.007 0.006 0.007 0.006 0.006 0.006 0.006 0.006 0.006\n",
      " 0.006 0.006 0.006 0.007 0.006 0.006 0.006 0.006 0.006 0.007 0.007 0.006\n",
      " 0.006 0.006 0.006 0.007 0.007 0.007 0.006 0.006 0.006 0.006 0.006 0.007\n",
      " 0.007 0.007 0.007 0.007 0.008 0.008 0.008 0.008 0.008 0.008 0.008 0.008\n",
      " 0.008 0.009 0.009 0.009 0.008 0.009 0.009 0.009]\n",
      "\n",
      "\n"
     ]
    }
   ],
   "execution_count": 17
  },
  {
   "cell_type": "code",
   "metadata": {
    "collapsed": true,
    "ExecuteTime": {
     "end_time": "2024-06-02T21:40:16.785306Z",
     "start_time": "2024-06-02T21:40:16.780884Z"
    }
   },
   "source": [
    "best_value = np.max(cv_data['test-AUC-mean'])\n",
    "best_iter = np.argmax(cv_data['test-AUC-mean'])\n",
    "print ('Best validation AUC score: {:.2f}±{:.2f} on step {}'.format(\n",
    "    best_value,\n",
    "    cv_data['test-AUC-std'][best_iter],\n",
    "    best_iter\n",
    "))"
   ],
   "outputs": [
    {
     "name": "stdout",
     "output_type": "stream",
     "text": [
      "Best validation AUC score: 0.86±0.01 on step 65\n"
     ]
    }
   ],
   "execution_count": 18
  },
  {
   "cell_type": "markdown",
   "metadata": {},
   "source": [
    "# Подбор параметров"
   ]
  },
  {
   "cell_type": "code",
   "metadata": {
    "collapsed": true,
    "ExecuteTime": {
     "end_time": "2024-06-02T21:40:37.065696Z",
     "start_time": "2024-06-02T21:40:17.777343Z"
    }
   },
   "source": [
    "best_model = CatBoostClassifier(\n",
    "    iterations=1500,\n",
    "    learning_rate=0.01,\n",
    "    l2_leaf_reg=3,\n",
    "    bagging_temperature=1,\n",
    "    random_strength=1,\n",
    "    one_hot_max_size=0,\n",
    "    random_seed=63,\n",
    "    use_best_model=True\n",
    ")\n",
    "best_model.fit(\n",
    "    X_train, y_train,\n",
    "    cat_features=cat_features,\n",
    "    eval_set=(X_validation, y_validation),\n",
    "    logging_level='Silent',\n",
    "    plot=True\n",
    ")"
   ],
   "outputs": [
    {
     "data": {
      "text/plain": [
       "MetricVisualizer(layout=Layout(align_self='stretch', height='500px'))"
      ],
      "application/vnd.jupyter.widget-view+json": {
       "version_major": 2,
       "version_minor": 0,
       "model_id": "f6c826b296734e7fbe7088bf6d1d3a9b"
      }
     },
     "metadata": {},
     "output_type": "display_data"
    },
    {
     "data": {
      "text/plain": [
       "<catboost.core.CatBoostClassifier at 0x16879b0a0>"
      ]
     },
     "execution_count": 19,
     "metadata": {},
     "output_type": "execute_result"
    }
   ],
   "execution_count": 19
  },
  {
   "cell_type": "markdown",
   "metadata": {},
   "source": [
    "## Детектор переобучения"
   ]
  },
  {
   "cell_type": "code",
   "metadata": {
    "collapsed": true,
    "ExecuteTime": {
     "end_time": "2024-06-02T21:40:50.064130Z",
     "start_time": "2024-06-02T21:40:42.754957Z"
    }
   },
   "source": [
    "model_full = CatBoostClassifier(\n",
    "    eval_metric='AUC',\n",
    "    learning_rate=0.8,\n",
    "    iterations=500,\n",
    "    random_seed=42\n",
    ")\n",
    "model_full.fit(\n",
    "    X_train, y_train,\n",
    "    eval_set=(X_validation, y_validation),\n",
    "    cat_features=cat_features,\n",
    "    logging_level='Silent',\n",
    "    plot=True\n",
    ")"
   ],
   "outputs": [
    {
     "data": {
      "text/plain": [
       "MetricVisualizer(layout=Layout(align_self='stretch', height='500px'))"
      ],
      "application/vnd.jupyter.widget-view+json": {
       "version_major": 2,
       "version_minor": 0,
       "model_id": "77fe6c9c765341d187219b7a9e24e4b7"
      }
     },
     "metadata": {},
     "output_type": "display_data"
    },
    {
     "data": {
      "text/plain": [
       "<catboost.core.CatBoostClassifier at 0x168434dc0>"
      ]
     },
     "execution_count": 20,
     "metadata": {},
     "output_type": "execute_result"
    }
   ],
   "execution_count": 20
  },
  {
   "cell_type": "code",
   "metadata": {
    "collapsed": true,
    "ExecuteTime": {
     "end_time": "2024-06-02T21:40:54.008109Z",
     "start_time": "2024-06-02T21:40:53.152457Z"
    }
   },
   "source": [
    "model_with_earlystop = CatBoostClassifier(\n",
    "    eval_metric='AUC',\n",
    "    learning_rate=0.8,\n",
    "    iterations=500,\n",
    "    random_seed=42,\n",
    "    od_type='Iter',\n",
    "    od_wait=20\n",
    ")\n",
    "\n",
    "model_with_earlystop.fit(\n",
    "    X_train, y_train,\n",
    "    eval_set=(X_validation, y_validation),\n",
    "    cat_features=cat_features,\n",
    "    logging_level='Silent',\n",
    "    plot=True\n",
    ")"
   ],
   "outputs": [
    {
     "data": {
      "text/plain": [
       "MetricVisualizer(layout=Layout(align_self='stretch', height='500px'))"
      ],
      "application/vnd.jupyter.widget-view+json": {
       "version_major": 2,
       "version_minor": 0,
       "model_id": "632c512d66c24680b88547197ed5bbdb"
      }
     },
     "metadata": {},
     "output_type": "display_data"
    },
    {
     "data": {
      "text/plain": [
       "<catboost.core.CatBoostClassifier at 0x168781a30>"
      ]
     },
     "execution_count": 21,
     "metadata": {},
     "output_type": "execute_result"
    }
   ],
   "execution_count": 21
  },
  {
   "cell_type": "code",
   "metadata": {
    "collapsed": true,
    "ExecuteTime": {
     "end_time": "2024-06-02T21:41:01.362354Z",
     "start_time": "2024-06-02T21:41:00.471589Z"
    }
   },
   "source": [
    "model_with_trunk = CatBoostClassifier(\n",
    "    eval_metric='AUC',\n",
    "    learning_rate=0.8,\n",
    "    iterations=500,\n",
    "    random_seed=42,\n",
    "    od_type='Iter',\n",
    "    od_wait=20,\n",
    "    use_best_model=True\n",
    ")\n",
    "\n",
    "model_with_trunk.fit(\n",
    "    X_train, y_train,\n",
    "    eval_set=(X_validation, y_validation),\n",
    "    cat_features=cat_features,\n",
    "    logging_level='Silent',\n",
    "    plot=True\n",
    ")"
   ],
   "outputs": [
    {
     "data": {
      "text/plain": [
       "MetricVisualizer(layout=Layout(align_self='stretch', height='500px'))"
      ],
      "application/vnd.jupyter.widget-view+json": {
       "version_major": 2,
       "version_minor": 0,
       "model_id": "e907aa9cfb8340599a0669338349f445"
      }
     },
     "metadata": {},
     "output_type": "display_data"
    },
    {
     "data": {
      "text/plain": [
       "<catboost.core.CatBoostClassifier at 0x168781e50>"
      ]
     },
     "execution_count": 22,
     "metadata": {},
     "output_type": "execute_result"
    }
   ],
   "execution_count": 22
  },
  {
   "cell_type": "code",
   "metadata": {
    "collapsed": true,
    "ExecuteTime": {
     "end_time": "2024-06-02T21:41:03.588075Z",
     "start_time": "2024-06-02T21:41:03.585365Z"
    }
   },
   "source": [
    "print ('Original model tree count:', model.tree_count_)\n",
    "print ('Early-stopped model tree count:', model_with_earlystop.tree_count_)\n",
    "print ('Trunkated model tree count:', model_with_trunk.tree_count_)"
   ],
   "outputs": [
    {
     "name": "stdout",
     "output_type": "stream",
     "text": [
      "Original model tree count: 235\n",
      "Early-stopped model tree count: 17\n",
      "Trunkated model tree count: 17\n"
     ]
    }
   ],
   "execution_count": 23
  },
  {
   "cell_type": "markdown",
   "metadata": {},
   "source": [
    "## Сравнение нескольких моделей"
   ]
  },
  {
   "cell_type": "code",
   "metadata": {
    "collapsed": true,
    "ExecuteTime": {
     "end_time": "2024-06-02T21:41:06.048435Z",
     "start_time": "2024-06-02T21:41:06.046256Z"
    }
   },
   "source": [
    "model1 = CatBoostClassifier(\n",
    "    learning_rate=0.9,\n",
    "    iterations=100,\n",
    "    train_dir='learing_rate_0.9',\n",
    "    name='learing_rate_0.9'\n",
    ")\n",
    "\n",
    "model2 = CatBoostClassifier(\n",
    "    learning_rate=0.1,\n",
    "    iterations=100,\n",
    "    train_dir='learing_rate_0.1',\n",
    "    name='learning_rate_0.1'\n",
    ")"
   ],
   "outputs": [],
   "execution_count": 24
  },
  {
   "cell_type": "code",
   "metadata": {
    "collapsed": true,
    "scrolled": true,
    "ExecuteTime": {
     "end_time": "2024-06-02T21:41:08.731951Z",
     "start_time": "2024-06-02T21:41:07.379127Z"
    }
   },
   "source": [
    "model1.fit(\n",
    "    X_train, y_train,\n",
    "    eval_set=(X_validation, y_validation),\n",
    "    cat_features=cat_features,\n",
    "    logging_level='Verbose'\n",
    ")\n",
    "model2.fit(\n",
    "    X_train, y_train,\n",
    "    eval_set=(X_validation, y_validation),\n",
    "    cat_features=cat_features,\n",
    "    logging_level='Verbose'\n",
    ")"
   ],
   "outputs": [
    {
     "name": "stdout",
     "output_type": "stream",
     "text": [
      "0:\tlearn: 0.2766015\ttest: 0.2773871\tbest: 0.2773871 (0)\ttotal: 13ms\tremaining: 1.28s\n",
      "1:\tlearn: 0.2211736\ttest: 0.2219929\tbest: 0.2219929 (1)\ttotal: 27.3ms\tremaining: 1.34s\n",
      "2:\tlearn: 0.1928008\ttest: 0.1836306\tbest: 0.1836306 (2)\ttotal: 47ms\tremaining: 1.52s\n",
      "3:\tlearn: 0.1871643\ttest: 0.1775831\tbest: 0.1775831 (3)\ttotal: 66.2ms\tremaining: 1.59s\n",
      "4:\tlearn: 0.1822635\ttest: 0.1728024\tbest: 0.1728024 (4)\ttotal: 79.3ms\tremaining: 1.51s\n",
      "5:\tlearn: 0.1792784\ttest: 0.1686609\tbest: 0.1686609 (5)\ttotal: 91.8ms\tremaining: 1.44s\n",
      "6:\tlearn: 0.1785669\ttest: 0.1685862\tbest: 0.1685862 (6)\ttotal: 105ms\tremaining: 1.39s\n",
      "7:\tlearn: 0.1766385\ttest: 0.1654709\tbest: 0.1654709 (7)\ttotal: 112ms\tremaining: 1.29s\n",
      "8:\tlearn: 0.1754529\ttest: 0.1654948\tbest: 0.1654709 (7)\ttotal: 120ms\tremaining: 1.22s\n",
      "9:\tlearn: 0.1745383\ttest: 0.1652455\tbest: 0.1652455 (9)\ttotal: 128ms\tremaining: 1.15s\n",
      "10:\tlearn: 0.1732515\ttest: 0.1644654\tbest: 0.1644654 (10)\ttotal: 142ms\tremaining: 1.15s\n",
      "11:\tlearn: 0.1726837\ttest: 0.1642513\tbest: 0.1642513 (11)\ttotal: 160ms\tremaining: 1.17s\n",
      "12:\tlearn: 0.1718656\ttest: 0.1640660\tbest: 0.1640660 (12)\ttotal: 177ms\tremaining: 1.18s\n",
      "13:\tlearn: 0.1705250\ttest: 0.1639052\tbest: 0.1639052 (13)\ttotal: 190ms\tremaining: 1.17s\n",
      "14:\tlearn: 0.1701074\ttest: 0.1630381\tbest: 0.1630381 (14)\ttotal: 198ms\tremaining: 1.12s\n",
      "15:\tlearn: 0.1697268\ttest: 0.1634872\tbest: 0.1630381 (14)\ttotal: 208ms\tremaining: 1.09s\n",
      "16:\tlearn: 0.1691588\ttest: 0.1633465\tbest: 0.1630381 (14)\ttotal: 217ms\tremaining: 1.06s\n",
      "17:\tlearn: 0.1684085\ttest: 0.1636272\tbest: 0.1630381 (14)\ttotal: 222ms\tremaining: 1.01s\n",
      "18:\tlearn: 0.1677761\ttest: 0.1639325\tbest: 0.1630381 (14)\ttotal: 226ms\tremaining: 965ms\n",
      "19:\tlearn: 0.1672251\ttest: 0.1630039\tbest: 0.1630039 (19)\ttotal: 237ms\tremaining: 946ms\n",
      "20:\tlearn: 0.1669992\ttest: 0.1627690\tbest: 0.1627690 (20)\ttotal: 250ms\tremaining: 939ms\n",
      "21:\tlearn: 0.1668008\ttest: 0.1628337\tbest: 0.1627690 (20)\ttotal: 259ms\tremaining: 919ms\n",
      "22:\tlearn: 0.1664615\ttest: 0.1623800\tbest: 0.1623800 (22)\ttotal: 269ms\tremaining: 900ms\n",
      "23:\tlearn: 0.1660149\ttest: 0.1615433\tbest: 0.1615433 (23)\ttotal: 276ms\tremaining: 875ms\n",
      "24:\tlearn: 0.1651283\ttest: 0.1611248\tbest: 0.1611248 (24)\ttotal: 289ms\tremaining: 866ms\n",
      "25:\tlearn: 0.1649542\ttest: 0.1612990\tbest: 0.1611248 (24)\ttotal: 295ms\tremaining: 840ms\n",
      "26:\tlearn: 0.1644637\ttest: 0.1618242\tbest: 0.1611248 (24)\ttotal: 300ms\tremaining: 811ms\n",
      "27:\tlearn: 0.1640942\ttest: 0.1621730\tbest: 0.1611248 (24)\ttotal: 305ms\tremaining: 785ms\n",
      "28:\tlearn: 0.1638029\ttest: 0.1623166\tbest: 0.1611248 (24)\ttotal: 310ms\tremaining: 759ms\n",
      "29:\tlearn: 0.1636694\ttest: 0.1623878\tbest: 0.1611248 (24)\ttotal: 315ms\tremaining: 735ms\n",
      "30:\tlearn: 0.1629935\ttest: 0.1622757\tbest: 0.1611248 (24)\ttotal: 320ms\tremaining: 712ms\n",
      "31:\tlearn: 0.1625832\ttest: 0.1618074\tbest: 0.1611248 (24)\ttotal: 326ms\tremaining: 694ms\n",
      "32:\tlearn: 0.1624081\ttest: 0.1618310\tbest: 0.1611248 (24)\ttotal: 333ms\tremaining: 675ms\n",
      "33:\tlearn: 0.1623336\ttest: 0.1619619\tbest: 0.1611248 (24)\ttotal: 337ms\tremaining: 655ms\n",
      "34:\tlearn: 0.1619611\ttest: 0.1617503\tbest: 0.1611248 (24)\ttotal: 342ms\tremaining: 635ms\n",
      "35:\tlearn: 0.1613435\ttest: 0.1617007\tbest: 0.1611248 (24)\ttotal: 347ms\tremaining: 617ms\n",
      "36:\tlearn: 0.1610223\ttest: 0.1618129\tbest: 0.1611248 (24)\ttotal: 351ms\tremaining: 598ms\n",
      "37:\tlearn: 0.1606433\ttest: 0.1622253\tbest: 0.1611248 (24)\ttotal: 357ms\tremaining: 583ms\n",
      "38:\tlearn: 0.1604187\ttest: 0.1622204\tbest: 0.1611248 (24)\ttotal: 363ms\tremaining: 568ms\n",
      "39:\tlearn: 0.1603517\ttest: 0.1623301\tbest: 0.1611248 (24)\ttotal: 368ms\tremaining: 552ms\n",
      "40:\tlearn: 0.1599361\ttest: 0.1624712\tbest: 0.1611248 (24)\ttotal: 374ms\tremaining: 539ms\n",
      "41:\tlearn: 0.1595777\ttest: 0.1623294\tbest: 0.1611248 (24)\ttotal: 379ms\tremaining: 524ms\n",
      "42:\tlearn: 0.1595704\ttest: 0.1623497\tbest: 0.1611248 (24)\ttotal: 384ms\tremaining: 509ms\n",
      "43:\tlearn: 0.1593955\ttest: 0.1626181\tbest: 0.1611248 (24)\ttotal: 389ms\tremaining: 495ms\n",
      "44:\tlearn: 0.1584730\ttest: 0.1626575\tbest: 0.1611248 (24)\ttotal: 393ms\tremaining: 480ms\n",
      "45:\tlearn: 0.1583900\ttest: 0.1627498\tbest: 0.1611248 (24)\ttotal: 400ms\tremaining: 469ms\n",
      "46:\tlearn: 0.1582054\ttest: 0.1627755\tbest: 0.1611248 (24)\ttotal: 407ms\tremaining: 459ms\n",
      "47:\tlearn: 0.1579509\ttest: 0.1629916\tbest: 0.1611248 (24)\ttotal: 414ms\tremaining: 449ms\n",
      "48:\tlearn: 0.1579253\ttest: 0.1630569\tbest: 0.1611248 (24)\ttotal: 421ms\tremaining: 438ms\n",
      "49:\tlearn: 0.1578172\ttest: 0.1631314\tbest: 0.1611248 (24)\ttotal: 427ms\tremaining: 427ms\n",
      "50:\tlearn: 0.1577724\ttest: 0.1631306\tbest: 0.1611248 (24)\ttotal: 430ms\tremaining: 413ms\n",
      "51:\tlearn: 0.1577573\ttest: 0.1631478\tbest: 0.1611248 (24)\ttotal: 435ms\tremaining: 401ms\n",
      "52:\tlearn: 0.1576673\ttest: 0.1631948\tbest: 0.1611248 (24)\ttotal: 438ms\tremaining: 389ms\n",
      "53:\tlearn: 0.1574198\ttest: 0.1629167\tbest: 0.1611248 (24)\ttotal: 443ms\tremaining: 377ms\n",
      "54:\tlearn: 0.1561327\ttest: 0.1623808\tbest: 0.1611248 (24)\ttotal: 447ms\tremaining: 366ms\n",
      "55:\tlearn: 0.1554801\ttest: 0.1622123\tbest: 0.1611248 (24)\ttotal: 452ms\tremaining: 355ms\n",
      "56:\tlearn: 0.1552440\ttest: 0.1620215\tbest: 0.1611248 (24)\ttotal: 456ms\tremaining: 344ms\n",
      "57:\tlearn: 0.1549217\ttest: 0.1625491\tbest: 0.1611248 (24)\ttotal: 462ms\tremaining: 334ms\n",
      "58:\tlearn: 0.1547487\ttest: 0.1626661\tbest: 0.1611248 (24)\ttotal: 467ms\tremaining: 324ms\n",
      "59:\tlearn: 0.1541825\ttest: 0.1627191\tbest: 0.1611248 (24)\ttotal: 472ms\tremaining: 315ms\n",
      "60:\tlearn: 0.1539397\ttest: 0.1629536\tbest: 0.1611248 (24)\ttotal: 479ms\tremaining: 306ms\n",
      "61:\tlearn: 0.1537140\ttest: 0.1627708\tbest: 0.1611248 (24)\ttotal: 486ms\tremaining: 298ms\n",
      "62:\tlearn: 0.1535668\ttest: 0.1627114\tbest: 0.1611248 (24)\ttotal: 494ms\tremaining: 290ms\n",
      "63:\tlearn: 0.1532972\ttest: 0.1623237\tbest: 0.1611248 (24)\ttotal: 499ms\tremaining: 281ms\n",
      "64:\tlearn: 0.1532165\ttest: 0.1624796\tbest: 0.1611248 (24)\ttotal: 505ms\tremaining: 272ms\n",
      "65:\tlearn: 0.1532090\ttest: 0.1624660\tbest: 0.1611248 (24)\ttotal: 511ms\tremaining: 263ms\n",
      "66:\tlearn: 0.1528812\ttest: 0.1625483\tbest: 0.1611248 (24)\ttotal: 516ms\tremaining: 254ms\n",
      "67:\tlearn: 0.1527185\ttest: 0.1624283\tbest: 0.1611248 (24)\ttotal: 522ms\tremaining: 246ms\n",
      "68:\tlearn: 0.1526076\ttest: 0.1622560\tbest: 0.1611248 (24)\ttotal: 527ms\tremaining: 237ms\n",
      "69:\tlearn: 0.1525040\ttest: 0.1623384\tbest: 0.1611248 (24)\ttotal: 533ms\tremaining: 228ms\n",
      "70:\tlearn: 0.1522959\ttest: 0.1625395\tbest: 0.1611248 (24)\ttotal: 538ms\tremaining: 220ms\n",
      "71:\tlearn: 0.1519810\ttest: 0.1623255\tbest: 0.1611248 (24)\ttotal: 544ms\tremaining: 211ms\n",
      "72:\tlearn: 0.1518361\ttest: 0.1622554\tbest: 0.1611248 (24)\ttotal: 550ms\tremaining: 203ms\n",
      "73:\tlearn: 0.1516942\ttest: 0.1624367\tbest: 0.1611248 (24)\ttotal: 555ms\tremaining: 195ms\n",
      "74:\tlearn: 0.1514317\ttest: 0.1622890\tbest: 0.1611248 (24)\ttotal: 562ms\tremaining: 187ms\n",
      "75:\tlearn: 0.1511223\ttest: 0.1625304\tbest: 0.1611248 (24)\ttotal: 567ms\tremaining: 179ms\n",
      "76:\tlearn: 0.1508852\ttest: 0.1624999\tbest: 0.1611248 (24)\ttotal: 573ms\tremaining: 171ms\n",
      "77:\tlearn: 0.1508838\ttest: 0.1625103\tbest: 0.1611248 (24)\ttotal: 578ms\tremaining: 163ms\n",
      "78:\tlearn: 0.1507785\ttest: 0.1624525\tbest: 0.1611248 (24)\ttotal: 583ms\tremaining: 155ms\n",
      "79:\tlearn: 0.1504694\ttest: 0.1623737\tbest: 0.1611248 (24)\ttotal: 589ms\tremaining: 147ms\n",
      "80:\tlearn: 0.1503251\ttest: 0.1623533\tbest: 0.1611248 (24)\ttotal: 595ms\tremaining: 139ms\n",
      "81:\tlearn: 0.1499396\ttest: 0.1623762\tbest: 0.1611248 (24)\ttotal: 599ms\tremaining: 132ms\n",
      "82:\tlearn: 0.1499243\ttest: 0.1624137\tbest: 0.1611248 (24)\ttotal: 604ms\tremaining: 124ms\n",
      "83:\tlearn: 0.1492779\ttest: 0.1620534\tbest: 0.1611248 (24)\ttotal: 608ms\tremaining: 116ms\n",
      "84:\tlearn: 0.1491542\ttest: 0.1620373\tbest: 0.1611248 (24)\ttotal: 613ms\tremaining: 108ms\n",
      "85:\tlearn: 0.1485324\ttest: 0.1622554\tbest: 0.1611248 (24)\ttotal: 617ms\tremaining: 101ms\n",
      "86:\tlearn: 0.1483156\ttest: 0.1622009\tbest: 0.1611248 (24)\ttotal: 622ms\tremaining: 93ms\n",
      "87:\tlearn: 0.1482874\ttest: 0.1622983\tbest: 0.1611248 (24)\ttotal: 627ms\tremaining: 85.5ms\n",
      "88:\tlearn: 0.1481988\ttest: 0.1623588\tbest: 0.1611248 (24)\ttotal: 632ms\tremaining: 78.1ms\n",
      "89:\tlearn: 0.1476264\ttest: 0.1625706\tbest: 0.1611248 (24)\ttotal: 635ms\tremaining: 70.6ms\n",
      "90:\tlearn: 0.1472101\ttest: 0.1626698\tbest: 0.1611248 (24)\ttotal: 639ms\tremaining: 63.2ms\n",
      "91:\tlearn: 0.1469350\ttest: 0.1625885\tbest: 0.1611248 (24)\ttotal: 642ms\tremaining: 55.8ms\n",
      "92:\tlearn: 0.1468027\ttest: 0.1626208\tbest: 0.1611248 (24)\ttotal: 646ms\tremaining: 48.6ms\n",
      "93:\tlearn: 0.1464667\ttest: 0.1628972\tbest: 0.1611248 (24)\ttotal: 651ms\tremaining: 41.5ms\n",
      "94:\tlearn: 0.1462572\ttest: 0.1628537\tbest: 0.1611248 (24)\ttotal: 655ms\tremaining: 34.5ms\n",
      "95:\tlearn: 0.1454582\ttest: 0.1635152\tbest: 0.1611248 (24)\ttotal: 659ms\tremaining: 27.5ms\n",
      "96:\tlearn: 0.1454018\ttest: 0.1638642\tbest: 0.1611248 (24)\ttotal: 666ms\tremaining: 20.6ms\n",
      "97:\tlearn: 0.1452407\ttest: 0.1637444\tbest: 0.1611248 (24)\ttotal: 672ms\tremaining: 13.7ms\n",
      "98:\tlearn: 0.1451850\ttest: 0.1637211\tbest: 0.1611248 (24)\ttotal: 681ms\tremaining: 6.88ms\n",
      "99:\tlearn: 0.1449091\ttest: 0.1634791\tbest: 0.1611248 (24)\ttotal: 691ms\tremaining: 0us\n",
      "\n",
      "bestTest = 0.1611247944\n",
      "bestIteration = 24\n",
      "\n",
      "Shrink model to first 25 iterations.\n",
      "0:\tlearn: 0.6187986\ttest: 0.6188477\tbest: 0.6188477 (0)\ttotal: 6.77ms\tremaining: 670ms\n",
      "1:\tlearn: 0.5582870\ttest: 0.5582008\tbest: 0.5582008 (1)\ttotal: 16.5ms\tremaining: 810ms\n",
      "2:\tlearn: 0.5078749\ttest: 0.5078578\tbest: 0.5078578 (2)\ttotal: 24.3ms\tremaining: 785ms\n",
      "3:\tlearn: 0.4657189\ttest: 0.4657662\tbest: 0.4657662 (3)\ttotal: 26.6ms\tremaining: 638ms\n",
      "4:\tlearn: 0.4301404\ttest: 0.4302506\tbest: 0.4302506 (4)\ttotal: 28.5ms\tremaining: 542ms\n",
      "5:\tlearn: 0.3998268\ttest: 0.3996201\tbest: 0.3996201 (5)\ttotal: 31.5ms\tremaining: 493ms\n",
      "6:\tlearn: 0.3739561\ttest: 0.3738475\tbest: 0.3738475 (6)\ttotal: 34.2ms\tremaining: 454ms\n",
      "7:\tlearn: 0.3517813\ttest: 0.3515767\tbest: 0.3515767 (7)\ttotal: 39.7ms\tremaining: 457ms\n",
      "8:\tlearn: 0.3324594\ttest: 0.3323511\tbest: 0.3323511 (8)\ttotal: 43.3ms\tremaining: 438ms\n",
      "9:\tlearn: 0.3158571\ttest: 0.3158043\tbest: 0.3158043 (9)\ttotal: 46.8ms\tremaining: 422ms\n",
      "10:\tlearn: 0.3016576\ttest: 0.3016056\tbest: 0.3016056 (10)\ttotal: 51.2ms\tremaining: 414ms\n",
      "11:\tlearn: 0.2892300\ttest: 0.2892693\tbest: 0.2892693 (11)\ttotal: 54.7ms\tremaining: 401ms\n",
      "12:\tlearn: 0.2782161\ttest: 0.2782819\tbest: 0.2782819 (12)\ttotal: 59.5ms\tremaining: 398ms\n",
      "13:\tlearn: 0.2692206\ttest: 0.2693430\tbest: 0.2693430 (13)\ttotal: 61.7ms\tremaining: 379ms\n",
      "14:\tlearn: 0.2600913\ttest: 0.2604641\tbest: 0.2604641 (14)\ttotal: 67.3ms\tremaining: 381ms\n",
      "15:\tlearn: 0.2524844\ttest: 0.2529989\tbest: 0.2529989 (15)\ttotal: 72.7ms\tremaining: 382ms\n",
      "16:\tlearn: 0.2451805\ttest: 0.2455516\tbest: 0.2455516 (16)\ttotal: 79.3ms\tremaining: 387ms\n",
      "17:\tlearn: 0.2390447\ttest: 0.2392928\tbest: 0.2392928 (17)\ttotal: 83.3ms\tremaining: 379ms\n",
      "18:\tlearn: 0.2338395\ttest: 0.2339956\tbest: 0.2339956 (18)\ttotal: 86.6ms\tremaining: 369ms\n",
      "19:\tlearn: 0.2291889\ttest: 0.2294361\tbest: 0.2294361 (19)\ttotal: 91.1ms\tremaining: 364ms\n",
      "20:\tlearn: 0.2230326\ttest: 0.2225329\tbest: 0.2225329 (20)\ttotal: 95.5ms\tremaining: 359ms\n",
      "21:\tlearn: 0.2176174\ttest: 0.2163967\tbest: 0.2163967 (21)\ttotal: 100ms\tremaining: 356ms\n",
      "22:\tlearn: 0.2127043\ttest: 0.2106998\tbest: 0.2106998 (22)\ttotal: 105ms\tremaining: 352ms\n",
      "23:\tlearn: 0.2085907\ttest: 0.2061268\tbest: 0.2061268 (23)\ttotal: 109ms\tremaining: 347ms\n",
      "24:\tlearn: 0.2049418\ttest: 0.2017051\tbest: 0.2017051 (24)\ttotal: 116ms\tremaining: 349ms\n",
      "25:\tlearn: 0.2020436\ttest: 0.1983125\tbest: 0.1983125 (25)\ttotal: 119ms\tremaining: 337ms\n",
      "26:\tlearn: 0.1991169\ttest: 0.1947843\tbest: 0.1947843 (26)\ttotal: 123ms\tremaining: 333ms\n",
      "27:\tlearn: 0.1970451\ttest: 0.1923076\tbest: 0.1923076 (27)\ttotal: 130ms\tremaining: 334ms\n",
      "28:\tlearn: 0.1951012\ttest: 0.1897521\tbest: 0.1897521 (28)\ttotal: 139ms\tremaining: 339ms\n",
      "29:\tlearn: 0.1933560\ttest: 0.1873527\tbest: 0.1873527 (29)\ttotal: 144ms\tremaining: 336ms\n",
      "30:\tlearn: 0.1910987\ttest: 0.1848081\tbest: 0.1848081 (30)\ttotal: 151ms\tremaining: 336ms\n",
      "31:\tlearn: 0.1894531\ttest: 0.1827317\tbest: 0.1827317 (31)\ttotal: 157ms\tremaining: 334ms\n",
      "32:\tlearn: 0.1876624\ttest: 0.1804964\tbest: 0.1804964 (32)\ttotal: 162ms\tremaining: 328ms\n",
      "33:\tlearn: 0.1862633\ttest: 0.1788425\tbest: 0.1788425 (33)\ttotal: 166ms\tremaining: 323ms\n",
      "34:\tlearn: 0.1851620\ttest: 0.1774508\tbest: 0.1774508 (34)\ttotal: 171ms\tremaining: 317ms\n",
      "35:\tlearn: 0.1843316\ttest: 0.1765307\tbest: 0.1765307 (35)\ttotal: 176ms\tremaining: 313ms\n",
      "36:\tlearn: 0.1832036\ttest: 0.1751653\tbest: 0.1751653 (36)\ttotal: 180ms\tremaining: 307ms\n",
      "37:\tlearn: 0.1823190\ttest: 0.1739823\tbest: 0.1739823 (37)\ttotal: 185ms\tremaining: 302ms\n",
      "38:\tlearn: 0.1814632\ttest: 0.1729640\tbest: 0.1729640 (38)\ttotal: 189ms\tremaining: 296ms\n",
      "39:\tlearn: 0.1806953\ttest: 0.1719328\tbest: 0.1719328 (39)\ttotal: 194ms\tremaining: 291ms\n",
      "40:\tlearn: 0.1798404\ttest: 0.1708423\tbest: 0.1708423 (40)\ttotal: 199ms\tremaining: 287ms\n",
      "41:\tlearn: 0.1789173\ttest: 0.1698409\tbest: 0.1698409 (41)\ttotal: 204ms\tremaining: 282ms\n",
      "42:\tlearn: 0.1782653\ttest: 0.1690854\tbest: 0.1690854 (42)\ttotal: 209ms\tremaining: 277ms\n",
      "43:\tlearn: 0.1776537\ttest: 0.1683334\tbest: 0.1683334 (43)\ttotal: 215ms\tremaining: 274ms\n",
      "44:\tlearn: 0.1771904\ttest: 0.1678934\tbest: 0.1678934 (44)\ttotal: 220ms\tremaining: 269ms\n",
      "45:\tlearn: 0.1767650\ttest: 0.1673233\tbest: 0.1673233 (45)\ttotal: 224ms\tremaining: 263ms\n",
      "46:\tlearn: 0.1763934\ttest: 0.1669073\tbest: 0.1669073 (46)\ttotal: 229ms\tremaining: 259ms\n",
      "47:\tlearn: 0.1758954\ttest: 0.1662562\tbest: 0.1662562 (47)\ttotal: 234ms\tremaining: 254ms\n",
      "48:\tlearn: 0.1755915\ttest: 0.1657445\tbest: 0.1657445 (48)\ttotal: 239ms\tremaining: 248ms\n",
      "49:\tlearn: 0.1752262\ttest: 0.1652956\tbest: 0.1652956 (49)\ttotal: 243ms\tremaining: 243ms\n",
      "50:\tlearn: 0.1747465\ttest: 0.1646677\tbest: 0.1646677 (50)\ttotal: 247ms\tremaining: 238ms\n",
      "51:\tlearn: 0.1745038\ttest: 0.1642227\tbest: 0.1642227 (51)\ttotal: 252ms\tremaining: 233ms\n",
      "52:\tlearn: 0.1741465\ttest: 0.1638707\tbest: 0.1638707 (52)\ttotal: 257ms\tremaining: 228ms\n",
      "53:\tlearn: 0.1741155\ttest: 0.1638407\tbest: 0.1638407 (53)\ttotal: 259ms\tremaining: 221ms\n",
      "54:\tlearn: 0.1737811\ttest: 0.1635018\tbest: 0.1635018 (54)\ttotal: 264ms\tremaining: 216ms\n",
      "55:\tlearn: 0.1736129\ttest: 0.1632915\tbest: 0.1632915 (55)\ttotal: 268ms\tremaining: 211ms\n",
      "56:\tlearn: 0.1733375\ttest: 0.1629559\tbest: 0.1629559 (56)\ttotal: 273ms\tremaining: 206ms\n",
      "57:\tlearn: 0.1732364\ttest: 0.1628470\tbest: 0.1628470 (57)\ttotal: 278ms\tremaining: 201ms\n",
      "58:\tlearn: 0.1730196\ttest: 0.1626300\tbest: 0.1626300 (58)\ttotal: 283ms\tremaining: 197ms\n",
      "59:\tlearn: 0.1729047\ttest: 0.1625062\tbest: 0.1625062 (59)\ttotal: 287ms\tremaining: 191ms\n",
      "60:\tlearn: 0.1727739\ttest: 0.1624177\tbest: 0.1624177 (60)\ttotal: 291ms\tremaining: 186ms\n",
      "61:\tlearn: 0.1727252\ttest: 0.1624218\tbest: 0.1624177 (60)\ttotal: 293ms\tremaining: 180ms\n",
      "62:\tlearn: 0.1726115\ttest: 0.1623364\tbest: 0.1623364 (62)\ttotal: 297ms\tremaining: 174ms\n",
      "63:\tlearn: 0.1724396\ttest: 0.1621802\tbest: 0.1621802 (63)\ttotal: 301ms\tremaining: 169ms\n",
      "64:\tlearn: 0.1722321\ttest: 0.1619771\tbest: 0.1619771 (64)\ttotal: 306ms\tremaining: 165ms\n",
      "65:\tlearn: 0.1720604\ttest: 0.1619019\tbest: 0.1619019 (65)\ttotal: 309ms\tremaining: 159ms\n",
      "66:\tlearn: 0.1719574\ttest: 0.1617233\tbest: 0.1617233 (66)\ttotal: 314ms\tremaining: 155ms\n",
      "67:\tlearn: 0.1718518\ttest: 0.1616709\tbest: 0.1616709 (67)\ttotal: 318ms\tremaining: 150ms\n",
      "68:\tlearn: 0.1716825\ttest: 0.1613592\tbest: 0.1613592 (68)\ttotal: 325ms\tremaining: 146ms\n",
      "69:\tlearn: 0.1714670\ttest: 0.1612666\tbest: 0.1612666 (69)\ttotal: 331ms\tremaining: 142ms\n",
      "70:\tlearn: 0.1714231\ttest: 0.1612715\tbest: 0.1612666 (69)\ttotal: 338ms\tremaining: 138ms\n",
      "71:\tlearn: 0.1712858\ttest: 0.1611934\tbest: 0.1611934 (71)\ttotal: 345ms\tremaining: 134ms\n",
      "72:\tlearn: 0.1711772\ttest: 0.1609831\tbest: 0.1609831 (72)\ttotal: 353ms\tremaining: 130ms\n",
      "73:\tlearn: 0.1711135\ttest: 0.1609120\tbest: 0.1609120 (73)\ttotal: 359ms\tremaining: 126ms\n",
      "74:\tlearn: 0.1710305\ttest: 0.1608045\tbest: 0.1608045 (74)\ttotal: 365ms\tremaining: 122ms\n",
      "75:\tlearn: 0.1709237\ttest: 0.1607673\tbest: 0.1607673 (75)\ttotal: 370ms\tremaining: 117ms\n",
      "76:\tlearn: 0.1708244\ttest: 0.1606212\tbest: 0.1606212 (76)\ttotal: 374ms\tremaining: 112ms\n",
      "77:\tlearn: 0.1707533\ttest: 0.1605499\tbest: 0.1605499 (77)\ttotal: 380ms\tremaining: 107ms\n",
      "78:\tlearn: 0.1707045\ttest: 0.1604309\tbest: 0.1604309 (78)\ttotal: 389ms\tremaining: 103ms\n",
      "79:\tlearn: 0.1705683\ttest: 0.1603041\tbest: 0.1603041 (79)\ttotal: 397ms\tremaining: 99.2ms\n",
      "80:\tlearn: 0.1705028\ttest: 0.1601738\tbest: 0.1601738 (80)\ttotal: 404ms\tremaining: 94.8ms\n",
      "81:\tlearn: 0.1704960\ttest: 0.1601770\tbest: 0.1601738 (80)\ttotal: 408ms\tremaining: 89.5ms\n",
      "82:\tlearn: 0.1703396\ttest: 0.1600718\tbest: 0.1600718 (82)\ttotal: 415ms\tremaining: 85ms\n",
      "83:\tlearn: 0.1702847\ttest: 0.1600442\tbest: 0.1600442 (83)\ttotal: 422ms\tremaining: 80.4ms\n",
      "84:\tlearn: 0.1701781\ttest: 0.1599373\tbest: 0.1599373 (84)\ttotal: 429ms\tremaining: 75.8ms\n",
      "85:\tlearn: 0.1701723\ttest: 0.1599415\tbest: 0.1599373 (84)\ttotal: 433ms\tremaining: 70.4ms\n",
      "86:\tlearn: 0.1701109\ttest: 0.1599162\tbest: 0.1599162 (86)\ttotal: 439ms\tremaining: 65.6ms\n",
      "87:\tlearn: 0.1700626\ttest: 0.1598513\tbest: 0.1598513 (87)\ttotal: 446ms\tremaining: 60.8ms\n",
      "88:\tlearn: 0.1700190\ttest: 0.1599042\tbest: 0.1598513 (87)\ttotal: 453ms\tremaining: 56ms\n",
      "89:\tlearn: 0.1699243\ttest: 0.1598431\tbest: 0.1598431 (89)\ttotal: 460ms\tremaining: 51.1ms\n",
      "90:\tlearn: 0.1698330\ttest: 0.1597336\tbest: 0.1597336 (90)\ttotal: 468ms\tremaining: 46.3ms\n",
      "91:\tlearn: 0.1697978\ttest: 0.1597224\tbest: 0.1597224 (91)\ttotal: 474ms\tremaining: 41.2ms\n",
      "92:\tlearn: 0.1697153\ttest: 0.1595974\tbest: 0.1595974 (92)\ttotal: 479ms\tremaining: 36.1ms\n",
      "93:\tlearn: 0.1695939\ttest: 0.1595646\tbest: 0.1595646 (93)\ttotal: 484ms\tremaining: 30.9ms\n",
      "94:\tlearn: 0.1695268\ttest: 0.1595059\tbest: 0.1595059 (94)\ttotal: 489ms\tremaining: 25.7ms\n",
      "95:\tlearn: 0.1694835\ttest: 0.1594225\tbest: 0.1594225 (95)\ttotal: 493ms\tremaining: 20.5ms\n",
      "96:\tlearn: 0.1694218\ttest: 0.1594246\tbest: 0.1594225 (95)\ttotal: 497ms\tremaining: 15.4ms\n",
      "97:\tlearn: 0.1693210\ttest: 0.1593988\tbest: 0.1593988 (97)\ttotal: 502ms\tremaining: 10.2ms\n",
      "98:\tlearn: 0.1692576\ttest: 0.1593162\tbest: 0.1593162 (98)\ttotal: 507ms\tremaining: 5.12ms\n",
      "99:\tlearn: 0.1692006\ttest: 0.1592943\tbest: 0.1592943 (99)\ttotal: 512ms\tremaining: 0us\n",
      "\n",
      "bestTest = 0.1592942864\n",
      "bestIteration = 99\n",
      "\n"
     ]
    },
    {
     "data": {
      "text/plain": [
       "<catboost.core.CatBoostClassifier at 0x16879bfd0>"
      ]
     },
     "execution_count": 25,
     "metadata": {},
     "output_type": "execute_result"
    }
   ],
   "execution_count": 25
  },
  {
   "cell_type": "code",
   "metadata": {
    "collapsed": true,
    "ExecuteTime": {
     "end_time": "2024-06-02T21:41:12.416074Z",
     "start_time": "2024-06-02T21:41:12.408471Z"
    }
   },
   "source": [
    "from catboost import MetricVisualizer\n",
    "widget = MetricVisualizer(['learing_rate_0.9', 'learing_rate_0.1'])\n",
    "widget.start()"
   ],
   "outputs": [
    {
     "data": {
      "text/plain": [
       "MetricVisualizer(layout=Layout(align_self='stretch', height='500px'))"
      ],
      "application/vnd.jupyter.widget-view+json": {
       "version_major": 2,
       "version_minor": 0,
       "model_id": "6e617c7c935f4d41ba9c164176e949a2"
      }
     },
     "metadata": {},
     "output_type": "display_data"
    }
   ],
   "execution_count": 26
  },
  {
   "cell_type": "markdown",
   "metadata": {},
   "source": [
    "# Вычисление метрик на новом датасете"
   ]
  },
  {
   "cell_type": "code",
   "metadata": {
    "collapsed": true,
    "ExecuteTime": {
     "end_time": "2024-06-02T21:41:17.777721Z",
     "start_time": "2024-06-02T21:41:17.721760Z"
    }
   },
   "source": [
    "tree_count = model.tree_count_\n",
    "metrics = model.eval_metrics(pool1, metrics=['Logloss','AUC','Accuracy'], ntree_start=0, ntree_end=0,\n",
    "                             eval_period=tree_count, thread_count=2)\n",
    "auc = metrics['AUC']\n",
    "print (auc)"
   ],
   "outputs": [
    {
     "name": "stdout",
     "output_type": "stream",
     "text": [
      "[0.4998336013697382, 0.9834073159800195]\n"
     ]
    }
   ],
   "execution_count": 27
  },
  {
   "cell_type": "markdown",
   "metadata": {},
   "source": [
    "# Важность факторов"
   ]
  },
  {
   "cell_type": "code",
   "metadata": {
    "collapsed": true,
    "ExecuteTime": {
     "end_time": "2024-06-02T21:42:02.806747Z",
     "start_time": "2024-06-02T21:42:02.804320Z"
    }
   },
   "source": [
    "# Найдем самые важные факторы\n",
    "importances = best_model.feature_importances_\n",
    "print ('Feature importances:', np.array(importances))\n",
    "print ('Feature names:', np.array(pool1.get_feature_names()))"
   ],
   "outputs": [
    {
     "name": "stdout",
     "output_type": "stream",
     "text": [
      "Feature importances: [23.615 15.062  4.692 10.593 16.61   5.958  8.168  6.04   9.265]\n",
      "Feature names: ['RESOURCE' 'MGR_ID' 'ROLE_ROLLUP_1' 'ROLE_ROLLUP_2' 'ROLE_DEPTNAME'\n",
      " 'ROLE_TITLE' 'ROLE_FAMILY_DESC' 'ROLE_FAMILY' 'ROLE_CODE']\n"
     ]
    }
   ],
   "execution_count": 28
  },
  {
   "cell_type": "markdown",
   "metadata": {},
   "source": [
    "# Сохранение модели"
   ]
  },
  {
   "cell_type": "code",
   "metadata": {
    "collapsed": true,
    "ExecuteTime": {
     "end_time": "2024-06-02T21:42:04.234774Z",
     "start_time": "2024-06-02T21:42:04.092083Z"
    }
   },
   "source": [
    "my_best_model = CatBoostClassifier(iterations=10)\n",
    "my_best_model.fit(\n",
    "    X_train, y_train,\n",
    "    eval_set=(X_validation, y_validation),\n",
    "    cat_features=cat_features,\n",
    "    logging_level='Verbose'\n",
    ")"
   ],
   "outputs": [
    {
     "name": "stdout",
     "output_type": "stream",
     "text": [
      "Learning rate set to 0.5\n",
      "0:\tlearn: 0.3965403\ttest: 0.3968906\tbest: 0.3968906 (0)\ttotal: 10.6ms\tremaining: 95ms\n",
      "1:\tlearn: 0.2940955\ttest: 0.2943532\tbest: 0.2943532 (1)\ttotal: 22.6ms\tremaining: 90.3ms\n",
      "2:\tlearn: 0.2433303\ttest: 0.2443831\tbest: 0.2443831 (2)\ttotal: 33.2ms\tremaining: 77.5ms\n",
      "3:\tlearn: 0.2193310\ttest: 0.2210140\tbest: 0.2210140 (3)\ttotal: 43.1ms\tremaining: 64.6ms\n",
      "4:\tlearn: 0.1981216\ttest: 0.1951440\tbest: 0.1951440 (4)\ttotal: 51.3ms\tremaining: 51.3ms\n",
      "5:\tlearn: 0.1894261\ttest: 0.1841792\tbest: 0.1841792 (5)\ttotal: 58.9ms\tremaining: 39.3ms\n",
      "6:\tlearn: 0.1830562\ttest: 0.1763128\tbest: 0.1763128 (6)\ttotal: 67.7ms\tremaining: 29ms\n",
      "7:\tlearn: 0.1799460\ttest: 0.1725612\tbest: 0.1725612 (7)\ttotal: 73.4ms\tremaining: 18.4ms\n",
      "8:\tlearn: 0.1779373\ttest: 0.1702787\tbest: 0.1702787 (8)\ttotal: 78.4ms\tremaining: 8.71ms\n",
      "9:\tlearn: 0.1766187\ttest: 0.1682470\tbest: 0.1682470 (9)\ttotal: 83.3ms\tremaining: 0us\n",
      "\n",
      "bestTest = 0.1682470454\n",
      "bestIteration = 9\n",
      "\n"
     ]
    },
    {
     "data": {
      "text/plain": [
       "<catboost.core.CatBoostClassifier at 0x168781760>"
      ]
     },
     "execution_count": 29,
     "metadata": {},
     "output_type": "execute_result"
    }
   ],
   "execution_count": 29
  },
  {
   "cell_type": "code",
   "metadata": {
    "collapsed": true,
    "ExecuteTime": {
     "end_time": "2024-06-02T21:42:05.563801Z",
     "start_time": "2024-06-02T21:42:05.561151Z"
    }
   },
   "source": [
    "my_best_model.save_model('catboost_model.bin')"
   ],
   "outputs": [],
   "execution_count": 30
  },
  {
   "cell_type": "code",
   "metadata": {
    "collapsed": true,
    "ExecuteTime": {
     "end_time": "2024-06-02T21:42:06.426662Z",
     "start_time": "2024-06-02T21:42:06.423878Z"
    }
   },
   "source": [
    "my_best_model.load_model('catboost_model.bin')\n",
    "print (my_best_model.get_params())"
   ],
   "outputs": [
    {
     "name": "stdout",
     "output_type": "stream",
     "text": [
      "{'iterations': 10, 'loss_function': 'Logloss', 'logging_level': 'Verbose'}\n"
     ]
    }
   ],
   "execution_count": 31
  }
 ],
 "metadata": {
  "kernelspec": {
   "display_name": "Python 3",
   "language": "python",
   "name": "python3"
  },
  "language_info": {
   "codemirror_mode": {
    "name": "ipython",
    "version": 3
   },
   "file_extension": ".py",
   "mimetype": "text/x-python",
   "name": "python",
   "nbconvert_exporter": "python",
   "pygments_lexer": "ipython3",
   "version": "3.11.5"
  },
  "widgets": {
   "state": {
    "1057714ebc614324aa3ba2cf69408966": {
     "views": [
      {
       "cell_index": 17
      }
     ]
    },
    "8381e9eed05f4a03905ae8a56d7ab4ea": {
     "views": [
      {
       "cell_index": 48
      }
     ]
    },
    "f49684e8c5c44241bfe2c7f577f5cb41": {
     "views": [
      {
       "cell_index": 53
      }
     ]
    }
   },
   "version": "1.2.0"
  }
 },
 "nbformat": 4,
 "nbformat_minor": 2
}
