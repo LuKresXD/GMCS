{
 "cells": [
  {
   "cell_type": "markdown",
   "id": "d8d533dd",
   "metadata": {},
   "source": [
    "# CatBoost Model for Predicting Surgical Complications"
   ]
  },
  {
   "cell_type": "code",
   "id": "236d3a93",
   "metadata": {
    "ExecuteTime": {
     "end_time": "2024-06-03T08:21:47.371507Z",
     "start_time": "2024-06-03T08:21:47.367818Z"
    }
   },
   "source": [
    "import pandas as pd\n",
    "from catboost import CatBoostClassifier\n",
    "from sklearn.model_selection import train_test_split, GridSearchCV\n",
    "from sklearn.metrics import accuracy_score, roc_auc_score, confusion_matrix, classification_report"
   ],
   "outputs": [],
   "execution_count": 7
  },
  {
   "cell_type": "markdown",
   "id": "fb7f16ec",
   "metadata": {},
   "source": [
    "## Load and Prepare Data"
   ]
  },
  {
   "cell_type": "code",
   "id": "ba18dfcb",
   "metadata": {
    "ExecuteTime": {
     "end_time": "2024-06-03T08:21:48.205016Z",
     "start_time": "2024-06-03T08:21:48.185627Z"
    }
   },
   "source": [
    "# Load the data\n",
    "surgical_data = pd.read_csv('Surgical.csv')\n",
    "\n",
    "# Prepare the data\n",
    "X = surgical_data.drop('complication', axis=1)\n",
    "y = surgical_data['complication']\n",
    "\n",
    "# Split the data into training and test sets\n",
    "X_train, X_test, y_train, y_test = train_test_split(X, y, test_size=0.2, random_state=42)\n",
    "\n",
    "# Identify categorical features\n",
    "categorical_features_indices = [i for i, col in enumerate(X_train.columns) if X_train[col].dtype == 'object']"
   ],
   "outputs": [],
   "execution_count": 8
  },
  {
   "cell_type": "markdown",
   "id": "ff861d76",
   "metadata": {},
   "source": [
    "## Train CatBoost Model"
   ]
  },
  {
   "cell_type": "code",
   "id": "3920cf4c",
   "metadata": {
    "ExecuteTime": {
     "end_time": "2024-06-03T08:23:58.757409Z",
     "start_time": "2024-06-03T08:21:49.224066Z"
    }
   },
   "source": [
    "# Train the CatBoost model\n",
    "model = CatBoostClassifier(loss_function='Logloss', cat_features=categorical_features_indices, verbose=0)\n",
    "param_grid = {\n",
    "    'iterations': [100, 500, 1000],\n",
    "    'depth': [4, 6, 8],\n",
    "    'learning_rate': [0.01, 0.1, 0.2]\n",
    "}\n",
    "model.fit(X_train, y_train)\n",
    "\n",
    "# GridSearchCV\n",
    "grid_search = GridSearchCV(estimator=model, param_grid=param_grid, cv=3, scoring='roc_auc', verbose=10)\n",
    "grid_search.fit(X_train, y_train)"
   ],
   "outputs": [
    {
     "name": "stdout",
     "output_type": "stream",
     "text": [
      "Fitting 3 folds for each of 27 candidates, totalling 81 fits\n",
      "[CV 1/3; 1/27] START depth=4, iterations=100, learning_rate=0.01................\n",
      "[CV 1/3; 1/27] END depth=4, iterations=100, learning_rate=0.01;, score=0.859 total time=   0.2s\n",
      "[CV 2/3; 1/27] START depth=4, iterations=100, learning_rate=0.01................\n",
      "[CV 2/3; 1/27] END depth=4, iterations=100, learning_rate=0.01;, score=0.875 total time=   0.2s\n",
      "[CV 3/3; 1/27] START depth=4, iterations=100, learning_rate=0.01................\n",
      "[CV 3/3; 1/27] END depth=4, iterations=100, learning_rate=0.01;, score=0.875 total time=   0.2s\n",
      "[CV 1/3; 2/27] START depth=4, iterations=100, learning_rate=0.1.................\n",
      "[CV 1/3; 2/27] END depth=4, iterations=100, learning_rate=0.1;, score=0.928 total time=   0.2s\n",
      "[CV 2/3; 2/27] START depth=4, iterations=100, learning_rate=0.1.................\n",
      "[CV 2/3; 2/27] END depth=4, iterations=100, learning_rate=0.1;, score=0.930 total time=   0.2s\n",
      "[CV 3/3; 2/27] START depth=4, iterations=100, learning_rate=0.1.................\n",
      "[CV 3/3; 2/27] END depth=4, iterations=100, learning_rate=0.1;, score=0.929 total time=   0.2s\n",
      "[CV 1/3; 3/27] START depth=4, iterations=100, learning_rate=0.2.................\n",
      "[CV 1/3; 3/27] END depth=4, iterations=100, learning_rate=0.2;, score=0.928 total time=   0.2s\n",
      "[CV 2/3; 3/27] START depth=4, iterations=100, learning_rate=0.2.................\n",
      "[CV 2/3; 3/27] END depth=4, iterations=100, learning_rate=0.2;, score=0.928 total time=   0.2s\n",
      "[CV 3/3; 3/27] START depth=4, iterations=100, learning_rate=0.2.................\n",
      "[CV 3/3; 3/27] END depth=4, iterations=100, learning_rate=0.2;, score=0.930 total time=   0.2s\n",
      "[CV 1/3; 4/27] START depth=4, iterations=500, learning_rate=0.01................\n",
      "[CV 1/3; 4/27] END depth=4, iterations=500, learning_rate=0.01;, score=0.926 total time=   0.9s\n",
      "[CV 2/3; 4/27] START depth=4, iterations=500, learning_rate=0.01................\n",
      "[CV 2/3; 4/27] END depth=4, iterations=500, learning_rate=0.01;, score=0.928 total time=   0.9s\n",
      "[CV 3/3; 4/27] START depth=4, iterations=500, learning_rate=0.01................\n",
      "[CV 3/3; 4/27] END depth=4, iterations=500, learning_rate=0.01;, score=0.928 total time=   1.0s\n",
      "[CV 1/3; 5/27] START depth=4, iterations=500, learning_rate=0.1.................\n",
      "[CV 1/3; 5/27] END depth=4, iterations=500, learning_rate=0.1;, score=0.928 total time=   0.9s\n",
      "[CV 2/3; 5/27] START depth=4, iterations=500, learning_rate=0.1.................\n",
      "[CV 2/3; 5/27] END depth=4, iterations=500, learning_rate=0.1;, score=0.930 total time=   0.9s\n",
      "[CV 3/3; 5/27] START depth=4, iterations=500, learning_rate=0.1.................\n",
      "[CV 3/3; 5/27] END depth=4, iterations=500, learning_rate=0.1;, score=0.931 total time=   0.9s\n",
      "[CV 1/3; 6/27] START depth=4, iterations=500, learning_rate=0.2.................\n",
      "[CV 1/3; 6/27] END depth=4, iterations=500, learning_rate=0.2;, score=0.922 total time=   0.9s\n",
      "[CV 2/3; 6/27] START depth=4, iterations=500, learning_rate=0.2.................\n",
      "[CV 2/3; 6/27] END depth=4, iterations=500, learning_rate=0.2;, score=0.925 total time=   1.0s\n",
      "[CV 3/3; 6/27] START depth=4, iterations=500, learning_rate=0.2.................\n",
      "[CV 3/3; 6/27] END depth=4, iterations=500, learning_rate=0.2;, score=0.927 total time=   1.0s\n",
      "[CV 1/3; 7/27] START depth=4, iterations=1000, learning_rate=0.01...............\n",
      "[CV 1/3; 7/27] END depth=4, iterations=1000, learning_rate=0.01;, score=0.929 total time=   1.8s\n",
      "[CV 2/3; 7/27] START depth=4, iterations=1000, learning_rate=0.01...............\n",
      "[CV 2/3; 7/27] END depth=4, iterations=1000, learning_rate=0.01;, score=0.931 total time=   1.7s\n",
      "[CV 3/3; 7/27] START depth=4, iterations=1000, learning_rate=0.01...............\n",
      "[CV 3/3; 7/27] END depth=4, iterations=1000, learning_rate=0.01;, score=0.932 total time=   1.7s\n",
      "[CV 1/3; 8/27] START depth=4, iterations=1000, learning_rate=0.1................\n",
      "[CV 1/3; 8/27] END depth=4, iterations=1000, learning_rate=0.1;, score=0.924 total time=   1.8s\n",
      "[CV 2/3; 8/27] START depth=4, iterations=1000, learning_rate=0.1................\n",
      "[CV 2/3; 8/27] END depth=4, iterations=1000, learning_rate=0.1;, score=0.927 total time=   1.8s\n",
      "[CV 3/3; 8/27] START depth=4, iterations=1000, learning_rate=0.1................\n",
      "[CV 3/3; 8/27] END depth=4, iterations=1000, learning_rate=0.1;, score=0.926 total time=   1.8s\n",
      "[CV 1/3; 9/27] START depth=4, iterations=1000, learning_rate=0.2................\n",
      "[CV 1/3; 9/27] END depth=4, iterations=1000, learning_rate=0.2;, score=0.919 total time=   1.8s\n",
      "[CV 2/3; 9/27] START depth=4, iterations=1000, learning_rate=0.2................\n",
      "[CV 2/3; 9/27] END depth=4, iterations=1000, learning_rate=0.2;, score=0.923 total time=   1.8s\n",
      "[CV 3/3; 9/27] START depth=4, iterations=1000, learning_rate=0.2................\n",
      "[CV 3/3; 9/27] END depth=4, iterations=1000, learning_rate=0.2;, score=0.925 total time=   1.8s\n",
      "[CV 1/3; 10/27] START depth=6, iterations=100, learning_rate=0.01...............\n",
      "[CV 1/3; 10/27] END depth=6, iterations=100, learning_rate=0.01;, score=0.911 total time=   0.2s\n",
      "[CV 2/3; 10/27] START depth=6, iterations=100, learning_rate=0.01...............\n",
      "[CV 2/3; 10/27] END depth=6, iterations=100, learning_rate=0.01;, score=0.908 total time=   0.2s\n",
      "[CV 3/3; 10/27] START depth=6, iterations=100, learning_rate=0.01...............\n",
      "[CV 3/3; 10/27] END depth=6, iterations=100, learning_rate=0.01;, score=0.916 total time=   0.2s\n",
      "[CV 1/3; 11/27] START depth=6, iterations=100, learning_rate=0.1................\n",
      "[CV 1/3; 11/27] END depth=6, iterations=100, learning_rate=0.1;, score=0.929 total time=   0.2s\n",
      "[CV 2/3; 11/27] START depth=6, iterations=100, learning_rate=0.1................\n",
      "[CV 2/3; 11/27] END depth=6, iterations=100, learning_rate=0.1;, score=0.929 total time=   0.2s\n",
      "[CV 3/3; 11/27] START depth=6, iterations=100, learning_rate=0.1................\n",
      "[CV 3/3; 11/27] END depth=6, iterations=100, learning_rate=0.1;, score=0.933 total time=   0.2s\n",
      "[CV 1/3; 12/27] START depth=6, iterations=100, learning_rate=0.2................\n",
      "[CV 1/3; 12/27] END depth=6, iterations=100, learning_rate=0.2;, score=0.926 total time=   0.2s\n",
      "[CV 2/3; 12/27] START depth=6, iterations=100, learning_rate=0.2................\n",
      "[CV 2/3; 12/27] END depth=6, iterations=100, learning_rate=0.2;, score=0.927 total time=   0.2s\n",
      "[CV 3/3; 12/27] START depth=6, iterations=100, learning_rate=0.2................\n",
      "[CV 3/3; 12/27] END depth=6, iterations=100, learning_rate=0.2;, score=0.929 total time=   0.2s\n",
      "[CV 1/3; 13/27] START depth=6, iterations=500, learning_rate=0.01...............\n",
      "[CV 1/3; 13/27] END depth=6, iterations=500, learning_rate=0.01;, score=0.928 total time=   1.2s\n",
      "[CV 2/3; 13/27] START depth=6, iterations=500, learning_rate=0.01...............\n",
      "[CV 2/3; 13/27] END depth=6, iterations=500, learning_rate=0.01;, score=0.931 total time=   1.2s\n",
      "[CV 3/3; 13/27] START depth=6, iterations=500, learning_rate=0.01...............\n",
      "[CV 3/3; 13/27] END depth=6, iterations=500, learning_rate=0.01;, score=0.932 total time=   1.2s\n",
      "[CV 1/3; 14/27] START depth=6, iterations=500, learning_rate=0.1................\n",
      "[CV 1/3; 14/27] END depth=6, iterations=500, learning_rate=0.1;, score=0.925 total time=   1.2s\n",
      "[CV 2/3; 14/27] START depth=6, iterations=500, learning_rate=0.1................\n",
      "[CV 2/3; 14/27] END depth=6, iterations=500, learning_rate=0.1;, score=0.926 total time=   1.2s\n",
      "[CV 3/3; 14/27] START depth=6, iterations=500, learning_rate=0.1................\n",
      "[CV 3/3; 14/27] END depth=6, iterations=500, learning_rate=0.1;, score=0.929 total time=   1.2s\n",
      "[CV 1/3; 15/27] START depth=6, iterations=500, learning_rate=0.2................\n",
      "[CV 1/3; 15/27] END depth=6, iterations=500, learning_rate=0.2;, score=0.919 total time=   1.2s\n",
      "[CV 2/3; 15/27] START depth=6, iterations=500, learning_rate=0.2................\n",
      "[CV 2/3; 15/27] END depth=6, iterations=500, learning_rate=0.2;, score=0.921 total time=   1.2s\n",
      "[CV 3/3; 15/27] START depth=6, iterations=500, learning_rate=0.2................\n",
      "[CV 3/3; 15/27] END depth=6, iterations=500, learning_rate=0.2;, score=0.922 total time=   1.2s\n",
      "[CV 1/3; 16/27] START depth=6, iterations=1000, learning_rate=0.01..............\n",
      "[CV 1/3; 16/27] END depth=6, iterations=1000, learning_rate=0.01;, score=0.929 total time=   2.4s\n",
      "[CV 2/3; 16/27] START depth=6, iterations=1000, learning_rate=0.01..............\n",
      "[CV 2/3; 16/27] END depth=6, iterations=1000, learning_rate=0.01;, score=0.933 total time=   2.4s\n",
      "[CV 3/3; 16/27] START depth=6, iterations=1000, learning_rate=0.01..............\n",
      "[CV 3/3; 16/27] END depth=6, iterations=1000, learning_rate=0.01;, score=0.934 total time=   2.4s\n",
      "[CV 1/3; 17/27] START depth=6, iterations=1000, learning_rate=0.1...............\n",
      "[CV 1/3; 17/27] END depth=6, iterations=1000, learning_rate=0.1;, score=0.923 total time=   2.4s\n",
      "[CV 2/3; 17/27] START depth=6, iterations=1000, learning_rate=0.1...............\n",
      "[CV 2/3; 17/27] END depth=6, iterations=1000, learning_rate=0.1;, score=0.924 total time=   2.4s\n",
      "[CV 3/3; 17/27] START depth=6, iterations=1000, learning_rate=0.1...............\n",
      "[CV 3/3; 17/27] END depth=6, iterations=1000, learning_rate=0.1;, score=0.927 total time=   2.5s\n",
      "[CV 1/3; 18/27] START depth=6, iterations=1000, learning_rate=0.2...............\n",
      "[CV 1/3; 18/27] END depth=6, iterations=1000, learning_rate=0.2;, score=0.919 total time=   2.4s\n",
      "[CV 2/3; 18/27] START depth=6, iterations=1000, learning_rate=0.2...............\n",
      "[CV 2/3; 18/27] END depth=6, iterations=1000, learning_rate=0.2;, score=0.923 total time=   2.4s\n",
      "[CV 3/3; 18/27] START depth=6, iterations=1000, learning_rate=0.2...............\n",
      "[CV 3/3; 18/27] END depth=6, iterations=1000, learning_rate=0.2;, score=0.921 total time=   2.4s\n",
      "[CV 1/3; 19/27] START depth=8, iterations=100, learning_rate=0.01...............\n",
      "[CV 1/3; 19/27] END depth=8, iterations=100, learning_rate=0.01;, score=0.917 total time=   0.4s\n",
      "[CV 2/3; 19/27] START depth=8, iterations=100, learning_rate=0.01...............\n",
      "[CV 2/3; 19/27] END depth=8, iterations=100, learning_rate=0.01;, score=0.920 total time=   0.5s\n",
      "[CV 3/3; 19/27] START depth=8, iterations=100, learning_rate=0.01...............\n",
      "[CV 3/3; 19/27] END depth=8, iterations=100, learning_rate=0.01;, score=0.922 total time=   0.5s\n",
      "[CV 1/3; 20/27] START depth=8, iterations=100, learning_rate=0.1................\n",
      "[CV 1/3; 20/27] END depth=8, iterations=100, learning_rate=0.1;, score=0.928 total time=   0.5s\n",
      "[CV 2/3; 20/27] START depth=8, iterations=100, learning_rate=0.1................\n",
      "[CV 2/3; 20/27] END depth=8, iterations=100, learning_rate=0.1;, score=0.928 total time=   0.5s\n",
      "[CV 3/3; 20/27] START depth=8, iterations=100, learning_rate=0.1................\n",
      "[CV 3/3; 20/27] END depth=8, iterations=100, learning_rate=0.1;, score=0.931 total time=   0.5s\n",
      "[CV 1/3; 21/27] START depth=8, iterations=100, learning_rate=0.2................\n",
      "[CV 1/3; 21/27] END depth=8, iterations=100, learning_rate=0.2;, score=0.923 total time=   0.5s\n",
      "[CV 2/3; 21/27] START depth=8, iterations=100, learning_rate=0.2................\n",
      "[CV 2/3; 21/27] END depth=8, iterations=100, learning_rate=0.2;, score=0.925 total time=   0.4s\n",
      "[CV 3/3; 21/27] START depth=8, iterations=100, learning_rate=0.2................\n",
      "[CV 3/3; 21/27] END depth=8, iterations=100, learning_rate=0.2;, score=0.929 total time=   0.4s\n",
      "[CV 1/3; 22/27] START depth=8, iterations=500, learning_rate=0.01...............\n",
      "[CV 1/3; 22/27] END depth=8, iterations=500, learning_rate=0.01;, score=0.929 total time=   2.1s\n",
      "[CV 2/3; 22/27] START depth=8, iterations=500, learning_rate=0.01...............\n",
      "[CV 2/3; 22/27] END depth=8, iterations=500, learning_rate=0.01;, score=0.930 total time=   2.1s\n",
      "[CV 3/3; 22/27] START depth=8, iterations=500, learning_rate=0.01...............\n",
      "[CV 3/3; 22/27] END depth=8, iterations=500, learning_rate=0.01;, score=0.932 total time=   2.2s\n",
      "[CV 1/3; 23/27] START depth=8, iterations=500, learning_rate=0.1................\n",
      "[CV 1/3; 23/27] END depth=8, iterations=500, learning_rate=0.1;, score=0.926 total time=   2.2s\n",
      "[CV 2/3; 23/27] START depth=8, iterations=500, learning_rate=0.1................\n",
      "[CV 2/3; 23/27] END depth=8, iterations=500, learning_rate=0.1;, score=0.923 total time=   2.2s\n",
      "[CV 3/3; 23/27] START depth=8, iterations=500, learning_rate=0.1................\n",
      "[CV 3/3; 23/27] END depth=8, iterations=500, learning_rate=0.1;, score=0.924 total time=   2.4s\n",
      "[CV 1/3; 24/27] START depth=8, iterations=500, learning_rate=0.2................\n",
      "[CV 1/3; 24/27] END depth=8, iterations=500, learning_rate=0.2;, score=0.922 total time=   2.2s\n",
      "[CV 2/3; 24/27] START depth=8, iterations=500, learning_rate=0.2................\n",
      "[CV 2/3; 24/27] END depth=8, iterations=500, learning_rate=0.2;, score=0.923 total time=   2.1s\n",
      "[CV 3/3; 24/27] START depth=8, iterations=500, learning_rate=0.2................\n",
      "[CV 3/3; 24/27] END depth=8, iterations=500, learning_rate=0.2;, score=0.926 total time=   2.2s\n",
      "[CV 1/3; 25/27] START depth=8, iterations=1000, learning_rate=0.01..............\n",
      "[CV 1/3; 25/27] END depth=8, iterations=1000, learning_rate=0.01;, score=0.930 total time=   4.2s\n",
      "[CV 2/3; 25/27] START depth=8, iterations=1000, learning_rate=0.01..............\n",
      "[CV 2/3; 25/27] END depth=8, iterations=1000, learning_rate=0.01;, score=0.931 total time=   4.2s\n",
      "[CV 3/3; 25/27] START depth=8, iterations=1000, learning_rate=0.01..............\n",
      "[CV 3/3; 25/27] END depth=8, iterations=1000, learning_rate=0.01;, score=0.932 total time=   4.2s\n",
      "[CV 1/3; 26/27] START depth=8, iterations=1000, learning_rate=0.1...............\n",
      "[CV 1/3; 26/27] END depth=8, iterations=1000, learning_rate=0.1;, score=0.924 total time=   4.3s\n",
      "[CV 2/3; 26/27] START depth=8, iterations=1000, learning_rate=0.1...............\n",
      "[CV 2/3; 26/27] END depth=8, iterations=1000, learning_rate=0.1;, score=0.922 total time=   4.3s\n",
      "[CV 3/3; 26/27] START depth=8, iterations=1000, learning_rate=0.1...............\n",
      "[CV 3/3; 26/27] END depth=8, iterations=1000, learning_rate=0.1;, score=0.925 total time=   4.3s\n",
      "[CV 1/3; 27/27] START depth=8, iterations=1000, learning_rate=0.2...............\n",
      "[CV 1/3; 27/27] END depth=8, iterations=1000, learning_rate=0.2;, score=0.922 total time=   4.2s\n",
      "[CV 2/3; 27/27] START depth=8, iterations=1000, learning_rate=0.2...............\n",
      "[CV 2/3; 27/27] END depth=8, iterations=1000, learning_rate=0.2;, score=0.922 total time=   4.2s\n",
      "[CV 3/3; 27/27] START depth=8, iterations=1000, learning_rate=0.2...............\n",
      "[CV 3/3; 27/27] END depth=8, iterations=1000, learning_rate=0.2;, score=0.926 total time=   4.3s\n"
     ]
    },
    {
     "data": {
      "text/plain": [
       "GridSearchCV(cv=3,\n",
       "             estimator=<catboost.core.CatBoostClassifier object at 0x16bd26640>,\n",
       "             param_grid={'depth': [4, 6, 8], 'iterations': [100, 500, 1000],\n",
       "                         'learning_rate': [0.01, 0.1, 0.2]},\n",
       "             scoring='roc_auc', verbose=10)"
      ],
      "text/html": [
       "<style>#sk-container-id-1 {color: black;}#sk-container-id-1 pre{padding: 0;}#sk-container-id-1 div.sk-toggleable {background-color: white;}#sk-container-id-1 label.sk-toggleable__label {cursor: pointer;display: block;width: 100%;margin-bottom: 0;padding: 0.3em;box-sizing: border-box;text-align: center;}#sk-container-id-1 label.sk-toggleable__label-arrow:before {content: \"▸\";float: left;margin-right: 0.25em;color: #696969;}#sk-container-id-1 label.sk-toggleable__label-arrow:hover:before {color: black;}#sk-container-id-1 div.sk-estimator:hover label.sk-toggleable__label-arrow:before {color: black;}#sk-container-id-1 div.sk-toggleable__content {max-height: 0;max-width: 0;overflow: hidden;text-align: left;background-color: #f0f8ff;}#sk-container-id-1 div.sk-toggleable__content pre {margin: 0.2em;color: black;border-radius: 0.25em;background-color: #f0f8ff;}#sk-container-id-1 input.sk-toggleable__control:checked~div.sk-toggleable__content {max-height: 200px;max-width: 100%;overflow: auto;}#sk-container-id-1 input.sk-toggleable__control:checked~label.sk-toggleable__label-arrow:before {content: \"▾\";}#sk-container-id-1 div.sk-estimator input.sk-toggleable__control:checked~label.sk-toggleable__label {background-color: #d4ebff;}#sk-container-id-1 div.sk-label input.sk-toggleable__control:checked~label.sk-toggleable__label {background-color: #d4ebff;}#sk-container-id-1 input.sk-hidden--visually {border: 0;clip: rect(1px 1px 1px 1px);clip: rect(1px, 1px, 1px, 1px);height: 1px;margin: -1px;overflow: hidden;padding: 0;position: absolute;width: 1px;}#sk-container-id-1 div.sk-estimator {font-family: monospace;background-color: #f0f8ff;border: 1px dotted black;border-radius: 0.25em;box-sizing: border-box;margin-bottom: 0.5em;}#sk-container-id-1 div.sk-estimator:hover {background-color: #d4ebff;}#sk-container-id-1 div.sk-parallel-item::after {content: \"\";width: 100%;border-bottom: 1px solid gray;flex-grow: 1;}#sk-container-id-1 div.sk-label:hover label.sk-toggleable__label {background-color: #d4ebff;}#sk-container-id-1 div.sk-serial::before {content: \"\";position: absolute;border-left: 1px solid gray;box-sizing: border-box;top: 0;bottom: 0;left: 50%;z-index: 0;}#sk-container-id-1 div.sk-serial {display: flex;flex-direction: column;align-items: center;background-color: white;padding-right: 0.2em;padding-left: 0.2em;position: relative;}#sk-container-id-1 div.sk-item {position: relative;z-index: 1;}#sk-container-id-1 div.sk-parallel {display: flex;align-items: stretch;justify-content: center;background-color: white;position: relative;}#sk-container-id-1 div.sk-item::before, #sk-container-id-1 div.sk-parallel-item::before {content: \"\";position: absolute;border-left: 1px solid gray;box-sizing: border-box;top: 0;bottom: 0;left: 50%;z-index: -1;}#sk-container-id-1 div.sk-parallel-item {display: flex;flex-direction: column;z-index: 1;position: relative;background-color: white;}#sk-container-id-1 div.sk-parallel-item:first-child::after {align-self: flex-end;width: 50%;}#sk-container-id-1 div.sk-parallel-item:last-child::after {align-self: flex-start;width: 50%;}#sk-container-id-1 div.sk-parallel-item:only-child::after {width: 0;}#sk-container-id-1 div.sk-dashed-wrapped {border: 1px dashed gray;margin: 0 0.4em 0.5em 0.4em;box-sizing: border-box;padding-bottom: 0.4em;background-color: white;}#sk-container-id-1 div.sk-label label {font-family: monospace;font-weight: bold;display: inline-block;line-height: 1.2em;}#sk-container-id-1 div.sk-label-container {text-align: center;}#sk-container-id-1 div.sk-container {/* jupyter's `normalize.less` sets `[hidden] { display: none; }` but bootstrap.min.css set `[hidden] { display: none !important; }` so we also need the `!important` here to be able to override the default hidden behavior on the sphinx rendered scikit-learn.org. See: https://github.com/scikit-learn/scikit-learn/issues/21755 */display: inline-block !important;position: relative;}#sk-container-id-1 div.sk-text-repr-fallback {display: none;}</style><div id=\"sk-container-id-1\" class=\"sk-top-container\"><div class=\"sk-text-repr-fallback\"><pre>GridSearchCV(cv=3,\n",
       "             estimator=&lt;catboost.core.CatBoostClassifier object at 0x16bd26640&gt;,\n",
       "             param_grid={&#x27;depth&#x27;: [4, 6, 8], &#x27;iterations&#x27;: [100, 500, 1000],\n",
       "                         &#x27;learning_rate&#x27;: [0.01, 0.1, 0.2]},\n",
       "             scoring=&#x27;roc_auc&#x27;, verbose=10)</pre><b>In a Jupyter environment, please rerun this cell to show the HTML representation or trust the notebook. <br />On GitHub, the HTML representation is unable to render, please try loading this page with nbviewer.org.</b></div><div class=\"sk-container\" hidden><div class=\"sk-item sk-dashed-wrapped\"><div class=\"sk-label-container\"><div class=\"sk-label sk-toggleable\"><input class=\"sk-toggleable__control sk-hidden--visually\" id=\"sk-estimator-id-1\" type=\"checkbox\" ><label for=\"sk-estimator-id-1\" class=\"sk-toggleable__label sk-toggleable__label-arrow\">GridSearchCV</label><div class=\"sk-toggleable__content\"><pre>GridSearchCV(cv=3,\n",
       "             estimator=&lt;catboost.core.CatBoostClassifier object at 0x16bd26640&gt;,\n",
       "             param_grid={&#x27;depth&#x27;: [4, 6, 8], &#x27;iterations&#x27;: [100, 500, 1000],\n",
       "                         &#x27;learning_rate&#x27;: [0.01, 0.1, 0.2]},\n",
       "             scoring=&#x27;roc_auc&#x27;, verbose=10)</pre></div></div></div><div class=\"sk-parallel\"><div class=\"sk-parallel-item\"><div class=\"sk-item\"><div class=\"sk-label-container\"><div class=\"sk-label sk-toggleable\"><input class=\"sk-toggleable__control sk-hidden--visually\" id=\"sk-estimator-id-2\" type=\"checkbox\" ><label for=\"sk-estimator-id-2\" class=\"sk-toggleable__label sk-toggleable__label-arrow\">estimator: CatBoostClassifier</label><div class=\"sk-toggleable__content\"><pre>&lt;catboost.core.CatBoostClassifier object at 0x16bd26640&gt;</pre></div></div></div><div class=\"sk-serial\"><div class=\"sk-item\"><div class=\"sk-estimator sk-toggleable\"><input class=\"sk-toggleable__control sk-hidden--visually\" id=\"sk-estimator-id-3\" type=\"checkbox\" ><label for=\"sk-estimator-id-3\" class=\"sk-toggleable__label sk-toggleable__label-arrow\">CatBoostClassifier</label><div class=\"sk-toggleable__content\"><pre>&lt;catboost.core.CatBoostClassifier object at 0x16bd26640&gt;</pre></div></div></div></div></div></div></div></div></div></div>"
      ]
     },
     "execution_count": 9,
     "metadata": {},
     "output_type": "execute_result"
    }
   ],
   "execution_count": 9
  },
  {
   "cell_type": "markdown",
   "id": "58bc37e7",
   "metadata": {},
   "source": [
    "## Evaluate Model"
   ]
  },
  {
   "cell_type": "code",
   "id": "1f858d3e",
   "metadata": {
    "ExecuteTime": {
     "end_time": "2024-06-03T08:26:25.036238Z",
     "start_time": "2024-06-03T08:26:21.403192Z"
    }
   },
   "source": [
    "# Лучшие параметры\n",
    "best_params = grid_search.best_params_\n",
    "print(\"Best parameters found: \", best_params)\n",
    "\n",
    "# Обучение модели с лучшими параметрами\n",
    "best_model = grid_search.best_estimator_\n",
    "best_model.fit(X_train, y_train)\n",
    "\n",
    "# Оценка модели\n",
    "y_pred = best_model.predict(X_test)\n",
    "y_pred_proba = best_model.predict_proba(X_test)[:, 1]\n",
    "\n",
    "print(\"Accuracy:\", accuracy_score(y_test, y_pred))\n",
    "print(\"ROC AUC Score:\", roc_auc_score(y_test, y_pred_proba))\n",
    "print(\"Confusion Matrix:\\n\", confusion_matrix(y_test, y_pred))\n",
    "print(\"Classification Report:\\n\", classification_report(y_test, y_pred))\n",
    "\n",
    "# Сохранение модели\n",
    "best_model.save_model('catboost_surgical_model_best.cbm')"
   ],
   "outputs": [
    {
     "name": "stdout",
     "output_type": "stream",
     "text": [
      "Best parameters found:  {'depth': 6, 'iterations': 1000, 'learning_rate': 0.01}\n",
      "Accuracy: 0.911855141783396\n",
      "ROC AUC Score: 0.9332815040847927\n",
      "Confusion Matrix:\n",
      " [[2197   40]\n",
      " [ 218  472]]\n",
      "Classification Report:\n",
      "               precision    recall  f1-score   support\n",
      "\n",
      "           0       0.91      0.98      0.94      2237\n",
      "           1       0.92      0.68      0.79       690\n",
      "\n",
      "    accuracy                           0.91      2927\n",
      "   macro avg       0.92      0.83      0.86      2927\n",
      "weighted avg       0.91      0.91      0.91      2927\n",
      "\n"
     ]
    }
   ],
   "execution_count": 12
  },
  {
   "metadata": {},
   "cell_type": "code",
   "outputs": [],
   "execution_count": null,
   "source": "",
   "id": "60f519ce91f939cb"
  }
 ],
 "metadata": {
  "kernelspec": {
   "name": "python3",
   "language": "python",
   "display_name": "Python 3 (ipykernel)"
  }
 },
 "nbformat": 4,
 "nbformat_minor": 5
}
