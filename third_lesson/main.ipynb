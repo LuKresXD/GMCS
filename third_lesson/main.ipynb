{
 "cells": [
  {
   "cell_type": "markdown",
   "id": "d8d533dd",
   "metadata": {},
   "source": [
    "# CatBoost Model for Predicting Surgical Complications"
   ]
  },
  {
   "cell_type": "code",
   "id": "236d3a93",
   "metadata": {
    "ExecuteTime": {
     "end_time": "2024-06-02T21:38:00.252674Z",
     "start_time": "2024-06-02T21:37:59.201654Z"
    }
   },
   "source": [
    "import pandas as pd\n",
    "from catboost import CatBoostClassifier, Pool\n",
    "from sklearn.model_selection import train_test_split\n",
    "from sklearn.metrics import accuracy_score, roc_auc_score, confusion_matrix, classification_report"
   ],
   "outputs": [],
   "execution_count": 1
  },
  {
   "cell_type": "markdown",
   "id": "fb7f16ec",
   "metadata": {},
   "source": [
    "## Load and Prepare Data"
   ]
  },
  {
   "cell_type": "code",
   "id": "ba18dfcb",
   "metadata": {
    "ExecuteTime": {
     "end_time": "2024-06-02T21:38:10.735567Z",
     "start_time": "2024-06-02T21:38:10.695536Z"
    }
   },
   "source": [
    "\n",
    "# Load the data\n",
    "surgical_data = pd.read_csv('Surgical.csv')\n",
    "\n",
    "# Prepare the data\n",
    "X = surgical_data.drop('complication', axis=1)\n",
    "y = surgical_data['complication']\n",
    "\n",
    "# Split the data into training and test sets\n",
    "X_train, X_test, y_train, y_test = train_test_split(X, y, test_size=0.2, random_state=42)\n",
    "\n",
    "# Identify categorical features\n",
    "categorical_features_indices = [i for i, col in enumerate(X_train.columns) if X_train[col].dtype == 'object']\n"
   ],
   "outputs": [],
   "execution_count": 3
  },
  {
   "cell_type": "markdown",
   "id": "ff861d76",
   "metadata": {},
   "source": [
    "## Train CatBoost Model"
   ]
  },
  {
   "cell_type": "code",
   "id": "3920cf4c",
   "metadata": {
    "ExecuteTime": {
     "end_time": "2024-06-02T21:38:16.867420Z",
     "start_time": "2024-06-02T21:38:13.151496Z"
    }
   },
   "source": [
    "\n",
    "# Train the CatBoost model\n",
    "model = CatBoostClassifier(iterations=1000, depth=6, learning_rate=0.1, loss_function='Logloss', cat_features=categorical_features_indices, verbose=100)\n",
    "model.fit(X_train, y_train)\n"
   ],
   "outputs": [
    {
     "name": "stdout",
     "output_type": "stream",
     "text": [
      "0:\tlearn: 0.6153301\ttotal: 64.1ms\tremaining: 1m 4s\n",
      "100:\tlearn: 0.2174967\ttotal: 456ms\tremaining: 4.06s\n",
      "200:\tlearn: 0.1787684\ttotal: 824ms\tremaining: 3.27s\n",
      "300:\tlearn: 0.1526681\ttotal: 1.21s\tremaining: 2.82s\n",
      "400:\tlearn: 0.1317899\ttotal: 1.6s\tremaining: 2.39s\n",
      "500:\tlearn: 0.1151831\ttotal: 1.95s\tremaining: 1.95s\n",
      "600:\tlearn: 0.1002335\ttotal: 2.29s\tremaining: 1.52s\n",
      "700:\tlearn: 0.0880422\ttotal: 2.63s\tremaining: 1.12s\n",
      "800:\tlearn: 0.0771337\ttotal: 2.97s\tremaining: 737ms\n",
      "900:\tlearn: 0.0681763\ttotal: 3.3s\tremaining: 363ms\n",
      "999:\tlearn: 0.0608821\ttotal: 3.64s\tremaining: 0us\n"
     ]
    },
    {
     "data": {
      "text/plain": [
       "<catboost.core.CatBoostClassifier at 0x16bd5fd00>"
      ]
     },
     "execution_count": 4,
     "metadata": {},
     "output_type": "execute_result"
    }
   ],
   "execution_count": 4
  },
  {
   "cell_type": "markdown",
   "id": "58bc37e7",
   "metadata": {},
   "source": [
    "## Evaluate Model"
   ]
  },
  {
   "cell_type": "code",
   "id": "1f858d3e",
   "metadata": {
    "ExecuteTime": {
     "end_time": "2024-06-02T21:38:20.403986Z",
     "start_time": "2024-06-02T21:38:20.383424Z"
    }
   },
   "source": [
    "\n",
    "# Make predictions\n",
    "y_pred = model.predict(X_test)\n",
    "y_pred_proba = model.predict_proba(X_test)[:, 1]\n",
    "\n",
    "# Evaluate the model\n",
    "print(\"Accuracy:\", accuracy_score(y_test, y_pred))\n",
    "print(\"ROC AUC Score:\", roc_auc_score(y_test, y_pred_proba))\n",
    "print(\"Confusion Matrix:\\n\", confusion_matrix(y_test, y_pred))\n",
    "print(\"Classification Report:\\n\", classification_report(y_test, y_pred))\n",
    "\n",
    "# Save the model\n",
    "model.save_model('catboost_surgical_model.cbm')\n"
   ],
   "outputs": [
    {
     "name": "stdout",
     "output_type": "stream",
     "text": [
      "Accuracy: 0.9135633754697643\n",
      "ROC AUC Score: 0.9200494969323563\n",
      "Confusion Matrix:\n",
      " [[2188   49]\n",
      " [ 204  486]]\n",
      "Classification Report:\n",
      "               precision    recall  f1-score   support\n",
      "\n",
      "           0       0.91      0.98      0.95      2237\n",
      "           1       0.91      0.70      0.79       690\n",
      "\n",
      "    accuracy                           0.91      2927\n",
      "   macro avg       0.91      0.84      0.87      2927\n",
      "weighted avg       0.91      0.91      0.91      2927\n",
      "\n"
     ]
    }
   ],
   "execution_count": 5
  },
  {
   "metadata": {},
   "cell_type": "code",
   "outputs": [],
   "execution_count": null,
   "source": "",
   "id": "be44cd588b81f425"
  }
 ],
 "metadata": {
  "kernelspec": {
   "name": "python3",
   "language": "python",
   "display_name": "Python 3 (ipykernel)"
  }
 },
 "nbformat": 4,
 "nbformat_minor": 5
}
