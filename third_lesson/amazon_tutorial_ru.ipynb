{
 "cells": [
  {
   "cell_type": "markdown",
   "metadata": {},
   "source": [
    "# Kaggle Amazon"
   ]
  },
  {
   "cell_type": "markdown",
   "metadata": {},
   "source": [
    "В этом туториале показана основная функциональность библиотеки CatBoost с использованием датасета Amazon.\n",
    "\n",
    "Полную верcию этого ноутбука можно найти в официальном [репозитории](https://github.com/catboost/tutorials) с туториалами CatBoost.\n",
    "\n",
    "\n",
    "Когда сотрудник любой компании приступает к работе, ему сначала нужно получить доступ к компьютеру, необходимый для выполнения своей роли. Этот доступ может позволить сотруднику читать/манипулировать ресурсами через различные приложения или веб-порталы. Предполагается, что сотрудники, выполняющие функции определенной роли, будут иметь доступ к одним и тем же или аналогичным ресурсам. Часто бывает так, что сотрудники выясняют, какой доступ им нужен, когда сталкиваются с препятствиями в своей повседневной работе (например, не могут войти на портал отчетности). Тогда опытный руководитель тратит время на то, чтобы вручную предоставить необходимый доступ, чтобы преодолеть препятствия. Поскольку сотрудники перемещаются по компании, этот цикл поиска/восстановления доступа отнимает нетривиальное количество времени и денег.\n",
    "\n",
    "Существует значительный объем данных о роли сотрудника в организации и ресурсах, к которым он имеет доступ. Учитывая данные о текущих сотрудниках и предоставленном им доступе, можно построить модели, которые будут автоматически определять привилегии доступа по мере того, как сотрудники будут входить и выходить из ролей в компании. Эти модели автоматического доступа призваны свести к минимуму участие человека, необходимое для предоставления или отзыва доступа сотрудников.\n",
    "\n",
    "Задача данного исследования - построить модель, обучаемую на основе исторических данных, которая будет определять потребности сотрудника в доступе. \n",
    "Модель будет принимать информацию о роли сотрудника и код ресурса и выдавать ответ, следует ли предоставлять доступ к этому ресурсу.\n"
   ]
  },
  {
   "cell_type": "markdown",
   "metadata": {},
   "source": [
    "# Чтение данных"
   ]
  },
  {
   "cell_type": "code",
   "execution_count": 1,
   "metadata": {
    "collapsed": true
   },
   "outputs": [],
   "source": [
    "import pandas as pd\n",
    "train_df = pd.read_csv('amazon/train.csv')\n",
    "test_df = pd.read_csv('amazon/test.csv')"
   ]
  },
  {
   "cell_type": "code",
   "execution_count": 2,
   "metadata": {
    "collapsed": true
   },
   "outputs": [
    {
     "data": {
      "text/html": [
       "<div>\n",
       "<style scoped>\n",
       "    .dataframe tbody tr th:only-of-type {\n",
       "        vertical-align: middle;\n",
       "    }\n",
       "\n",
       "    .dataframe tbody tr th {\n",
       "        vertical-align: top;\n",
       "    }\n",
       "\n",
       "    .dataframe thead th {\n",
       "        text-align: right;\n",
       "    }\n",
       "</style>\n",
       "<table border=\"1\" class=\"dataframe\">\n",
       "  <thead>\n",
       "    <tr style=\"text-align: right;\">\n",
       "      <th></th>\n",
       "      <th>ACTION</th>\n",
       "      <th>RESOURCE</th>\n",
       "      <th>MGR_ID</th>\n",
       "      <th>ROLE_ROLLUP_1</th>\n",
       "      <th>ROLE_ROLLUP_2</th>\n",
       "      <th>ROLE_DEPTNAME</th>\n",
       "      <th>ROLE_TITLE</th>\n",
       "      <th>ROLE_FAMILY_DESC</th>\n",
       "      <th>ROLE_FAMILY</th>\n",
       "      <th>ROLE_CODE</th>\n",
       "    </tr>\n",
       "  </thead>\n",
       "  <tbody>\n",
       "    <tr>\n",
       "      <th>0</th>\n",
       "      <td>1</td>\n",
       "      <td>39353</td>\n",
       "      <td>85475</td>\n",
       "      <td>117961</td>\n",
       "      <td>118300</td>\n",
       "      <td>123472</td>\n",
       "      <td>117905</td>\n",
       "      <td>117906</td>\n",
       "      <td>290919</td>\n",
       "      <td>117908</td>\n",
       "    </tr>\n",
       "    <tr>\n",
       "      <th>1</th>\n",
       "      <td>1</td>\n",
       "      <td>17183</td>\n",
       "      <td>1540</td>\n",
       "      <td>117961</td>\n",
       "      <td>118343</td>\n",
       "      <td>123125</td>\n",
       "      <td>118536</td>\n",
       "      <td>118536</td>\n",
       "      <td>308574</td>\n",
       "      <td>118539</td>\n",
       "    </tr>\n",
       "    <tr>\n",
       "      <th>2</th>\n",
       "      <td>1</td>\n",
       "      <td>36724</td>\n",
       "      <td>14457</td>\n",
       "      <td>118219</td>\n",
       "      <td>118220</td>\n",
       "      <td>117884</td>\n",
       "      <td>117879</td>\n",
       "      <td>267952</td>\n",
       "      <td>19721</td>\n",
       "      <td>117880</td>\n",
       "    </tr>\n",
       "    <tr>\n",
       "      <th>3</th>\n",
       "      <td>1</td>\n",
       "      <td>36135</td>\n",
       "      <td>5396</td>\n",
       "      <td>117961</td>\n",
       "      <td>118343</td>\n",
       "      <td>119993</td>\n",
       "      <td>118321</td>\n",
       "      <td>240983</td>\n",
       "      <td>290919</td>\n",
       "      <td>118322</td>\n",
       "    </tr>\n",
       "    <tr>\n",
       "      <th>4</th>\n",
       "      <td>1</td>\n",
       "      <td>42680</td>\n",
       "      <td>5905</td>\n",
       "      <td>117929</td>\n",
       "      <td>117930</td>\n",
       "      <td>119569</td>\n",
       "      <td>119323</td>\n",
       "      <td>123932</td>\n",
       "      <td>19793</td>\n",
       "      <td>119325</td>\n",
       "    </tr>\n",
       "  </tbody>\n",
       "</table>\n",
       "</div>"
      ],
      "text/plain": [
       "   ACTION  RESOURCE  MGR_ID  ROLE_ROLLUP_1  ROLE_ROLLUP_2  ROLE_DEPTNAME  \\\n",
       "0       1     39353   85475         117961         118300         123472   \n",
       "1       1     17183    1540         117961         118343         123125   \n",
       "2       1     36724   14457         118219         118220         117884   \n",
       "3       1     36135    5396         117961         118343         119993   \n",
       "4       1     42680    5905         117929         117930         119569   \n",
       "\n",
       "   ROLE_TITLE  ROLE_FAMILY_DESC  ROLE_FAMILY  ROLE_CODE  \n",
       "0      117905            117906       290919     117908  \n",
       "1      118536            118536       308574     118539  \n",
       "2      117879            267952        19721     117880  \n",
       "3      118321            240983       290919     118322  \n",
       "4      119323            123932        19793     119325  "
      ]
     },
     "execution_count": 2,
     "metadata": {},
     "output_type": "execute_result"
    }
   ],
   "source": [
    "train_df.head()"
   ]
  },
  {
   "cell_type": "markdown",
   "metadata": {},
   "source": [
    "# Подготовка датасета"
   ]
  },
  {
   "cell_type": "markdown",
   "metadata": {},
   "source": [
    "Выделение целевой переменной"
   ]
  },
  {
   "cell_type": "code",
   "execution_count": 3,
   "metadata": {
    "collapsed": true
   },
   "outputs": [],
   "source": [
    "y = train_df.ACTION\n",
    "X = train_df.drop('ACTION', axis=1)"
   ]
  },
  {
   "cell_type": "markdown",
   "metadata": {},
   "source": [
    "Объявление категориальных факторов"
   ]
  },
  {
   "cell_type": "code",
   "execution_count": 4,
   "metadata": {
    "collapsed": true
   },
   "outputs": [
    {
     "name": "stdout",
     "output_type": "stream",
     "text": [
      "range(0, 9)\n"
     ]
    }
   ],
   "source": [
    "cat_features = range(0, X.shape[1])\n",
    "print (cat_features)"
   ]
  },
  {
   "cell_type": "markdown",
   "metadata": {},
   "source": [
    "# Обучение модели"
   ]
  },
  {
   "cell_type": "markdown",
   "metadata": {},
   "source": [
    "Разделение данных на train и validation"
   ]
  },
  {
   "cell_type": "code",
   "execution_count": 5,
   "metadata": {
    "collapsed": true
   },
   "outputs": [],
   "source": [
    "from sklearn.model_selection import train_test_split\n",
    "X_train, X_validation, y_train, y_validation = train_test_split(X, y, train_size=0.8, random_state=1234)"
   ]
  },
  {
   "cell_type": "markdown",
   "metadata": {},
   "source": [
    "Обучение модели"
   ]
  },
  {
   "cell_type": "code",
   "execution_count": 6,
   "metadata": {
    "collapsed": true
   },
   "outputs": [
    {
     "data": {
      "text/plain": [
       "<catboost.core.CatBoostClassifier at 0x24cd3411410>"
      ]
     },
     "execution_count": 6,
     "metadata": {},
     "output_type": "execute_result"
    }
   ],
   "source": [
    "from catboost import CatBoostClassifier\n",
    "model = CatBoostClassifier(\n",
    "    thread_count=2,\n",
    "    iterations=5,\n",
    "    random_seed=1136926949945377,\n",
    ")\n",
    "model.fit(\n",
    "    X_train, y_train,\n",
    "    cat_features=cat_features,\n",
    "    eval_set=(X_validation, y_validation),\n",
    "    logging_level='Silent'\n",
    ")"
   ]
  },
  {
   "cell_type": "code",
   "execution_count": 7,
   "metadata": {
    "collapsed": true
   },
   "outputs": [
    {
     "name": "stdout",
     "output_type": "stream",
     "text": [
      "1136926949945377\n"
     ]
    }
   ],
   "source": [
    "print (model.random_seed_)"
   ]
  },
  {
   "cell_type": "code",
   "execution_count": 8,
   "metadata": {
    "collapsed": true
   },
   "outputs": [
    {
     "data": {
      "application/vnd.jupyter.widget-view+json": {
       "model_id": "b943a3eb81a7417e858a5bb97c0136a7",
       "version_major": 2,
       "version_minor": 0
      },
      "text/plain": [
       "MetricVisualizer(layout=Layout(align_self='stretch', height='500px'))"
      ]
     },
     "metadata": {},
     "output_type": "display_data"
    },
    {
     "data": {
      "text/plain": [
       "<catboost.core.CatBoostClassifier at 0x24cd3661490>"
      ]
     },
     "execution_count": 8,
     "metadata": {},
     "output_type": "execute_result"
    }
   ],
   "source": [
    "from catboost import CatBoostClassifier\n",
    "model = CatBoostClassifier(\n",
    "    thread_count=2,\n",
    "    iterations=300,\n",
    "    learning_rate=0.1,\n",
    "    random_seed=63,\n",
    "    custom_loss=['AUC', 'Accuracy'],\n",
    "    use_best_model=True\n",
    ")\n",
    "model.fit(\n",
    "    X_train, y_train,\n",
    "    cat_features=cat_features,\n",
    "    eval_set=(X_validation, y_validation),\n",
    "    logging_level='Silent',\n",
    "    plot=True\n",
    ")"
   ]
  },
  {
   "cell_type": "code",
   "execution_count": 9,
   "metadata": {
    "collapsed": true
   },
   "outputs": [
    {
     "name": "stdout",
     "output_type": "stream",
     "text": [
      "Model is fitted: True\n"
     ]
    }
   ],
   "source": [
    "print ('Model is fitted:', model.is_fitted())"
   ]
  },
  {
   "cell_type": "code",
   "execution_count": 10,
   "metadata": {
    "collapsed": true
   },
   "outputs": [
    {
     "name": "stdout",
     "output_type": "stream",
     "text": [
      "Model params: {'iterations': 300, 'learning_rate': 0.1, 'thread_count': 2, 'random_seed': 63, 'use_best_model': True, 'custom_loss': ['AUC', 'Accuracy']}\n"
     ]
    }
   ],
   "source": [
    "print ('Model params:', model.get_params())"
   ]
  },
  {
   "cell_type": "code",
   "execution_count": 11,
   "metadata": {
    "collapsed": true
   },
   "outputs": [
    {
     "name": "stdout",
     "output_type": "stream",
     "text": [
      "Resulting tree count: 235\n"
     ]
    }
   ],
   "source": [
    "print ('Resulting tree count:', model.tree_count_)"
   ]
  },
  {
   "cell_type": "markdown",
   "metadata": {},
   "source": [
    "# Способы задания датасета"
   ]
  },
  {
   "cell_type": "code",
   "execution_count": 12,
   "metadata": {},
   "outputs": [],
   "source": [
    "from catboost.utils import create_cd\n",
    "import os\n",
    "\n",
    "feature_names = dict()\n",
    "for column, name in enumerate(train_df):\n",
    "    if column == 0:\n",
    "        continue\n",
    "    feature_names[column] = name\n",
    "    \n",
    "create_cd(\n",
    "    label=0, \n",
    "    cat_features=list(range(1, train_df.columns.shape[0])),\n",
    "    feature_names=feature_names,\n",
    "    output_path='amazon/test.cd'\n",
    ")"
   ]
  },
  {
   "cell_type": "code",
   "execution_count": 13,
   "metadata": {},
   "outputs": [
    {
     "name": "stderr",
     "output_type": "stream",
     "text": [
      "\"cat\" �� ���� ����७��� ��� ���譥�\n",
      "��������, �ᯮ��塞�� �ணࠬ��� ��� ������ 䠩���.\n"
     ]
    }
   ],
   "source": [
    "!cat amazon/test.cd"
   ]
  },
  {
   "cell_type": "code",
   "execution_count": 15,
   "metadata": {
    "collapsed": true
   },
   "outputs": [
    {
     "name": "stdout",
     "output_type": "stream",
     "text": [
      "Dataset shape\n",
      "dataset 1: (32769, 9) \n",
      "dataset 2: (32769, 9)\n",
      "Column names\n",
      "dataset 1: ['RESOURCE', 'MGR_ID', 'ROLE_ROLLUP_1', 'ROLE_ROLLUP_2', 'ROLE_DEPTNAME', 'ROLE_TITLE', 'ROLE_FAMILY_DESC', 'ROLE_FAMILY', 'ROLE_CODE'] \n",
      "dataset 2: ['RESOURCE', 'MGR_ID', 'ROLE_ROLLUP_1', 'ROLE_ROLLUP_2', 'ROLE_DEPTNAME', 'ROLE_TITLE', 'ROLE_FAMILY_DESC', 'ROLE_FAMILY', 'ROLE_CODE']\n"
     ]
    }
   ],
   "source": [
    "import numpy as np\n",
    "from catboost import Pool\n",
    "pool1 = Pool(data=X, label=y, cat_features=cat_features)\n",
    "pool2 = Pool(data='amazon/train.csv', delimiter=',', has_header=True, column_description='amazon/test.cd', thread_count=2)\n",
    "\n",
    "print ('Dataset shape')\n",
    "\n",
    "print ('dataset 1:', pool1.shape, '\\ndataset 2:', pool2.shape)\n",
    "\n",
    "\n",
    "print ('Column names')\n",
    "print ('dataset 1:', pool1.get_feature_names(), '\\ndataset 2:',  pool1.get_feature_names())"
   ]
  },
  {
   "cell_type": "markdown",
   "metadata": {},
   "source": [
    "# Кросс-валидация"
   ]
  },
  {
   "cell_type": "code",
   "execution_count": 17,
   "metadata": {
    "collapsed": true
   },
   "outputs": [
    {
     "data": {
      "application/vnd.jupyter.widget-view+json": {
       "model_id": "eeea0af08aed4be8ab58daaf20357d53",
       "version_major": 2,
       "version_minor": 0
      },
      "text/plain": [
       "MetricVisualizer(layout=Layout(align_self='stretch', height='500px'))"
      ]
     },
     "metadata": {},
     "output_type": "display_data"
    },
    {
     "name": "stdout",
     "output_type": "stream",
     "text": [
      "Training on fold [0/5]\n",
      "\n",
      "bestTest = 0.1674879003\n",
      "bestIteration = 36\n",
      "\n",
      "Training on fold [1/5]\n",
      "\n",
      "bestTest = 0.164632916\n",
      "bestIteration = 48\n",
      "\n",
      "Training on fold [2/5]\n",
      "\n",
      "bestTest = 0.1533395872\n",
      "bestIteration = 79\n",
      "\n",
      "Training on fold [3/5]\n",
      "\n",
      "bestTest = 0.1426916182\n",
      "bestIteration = 78\n",
      "\n",
      "Training on fold [4/5]\n",
      "\n",
      "bestTest = 0.1563234371\n",
      "bestIteration = 37\n",
      "\n"
     ]
    }
   ],
   "source": [
    "from catboost import cv\n",
    "\n",
    "params = {}\n",
    "params['loss_function'] = 'Logloss'\n",
    "params['iterations'] = 80\n",
    "params['custom_loss'] = 'AUC'\n",
    "params['random_seed'] = 63\n",
    "params['learning_rate'] = 0.5\n",
    "\n",
    "cv_data = cv(\n",
    "    params = params,\n",
    "    pool = Pool(X, label=y, cat_features=cat_features),\n",
    "    fold_count=5,\n",
    "    shuffle=True,\n",
    "    partition_random_seed=0,\n",
    "    plot=True,\n",
    "    stratified=False,\n",
    "    verbose=False\n",
    ")"
   ]
  },
  {
   "cell_type": "code",
   "execution_count": 20,
   "metadata": {
    "collapsed": true
   },
   "outputs": [
    {
     "name": "stdout",
     "output_type": "stream",
     "text": [
      "iterations:\n",
      "[ 0  1  2  3  4  5  6  7  8  9 10 11 12 13 14 15 16 17 18 19 20 21 22 23\n",
      " 24 25 26 27 28 29 30 31 32 33 34 35 36 37 38 39 40 41 42 43 44 45 46 47\n",
      " 48 49 50 51 52 53 54 55 56 57 58 59 60 61 62 63 64 65 66 67 68 69 70 71\n",
      " 72 73 74 75 76 77 78 79]\n",
      "\n",
      "\n",
      "test-Logloss-mean:\n",
      "[0.302 0.227 0.19  0.178 0.172 0.168 0.165 0.164 0.163 0.163 0.162 0.161\n",
      " 0.161 0.161 0.16  0.16  0.16  0.16  0.16  0.16  0.16  0.159 0.159 0.159\n",
      " 0.159 0.159 0.158 0.159 0.158 0.158 0.158 0.159 0.158 0.158 0.158 0.158\n",
      " 0.158 0.158 0.158 0.158 0.158 0.158 0.158 0.158 0.158 0.158 0.158 0.158\n",
      " 0.158 0.158 0.158 0.158 0.158 0.158 0.158 0.158 0.159 0.159 0.159 0.159\n",
      " 0.158 0.158 0.158 0.158 0.158 0.158 0.158 0.159 0.159 0.159 0.159 0.159\n",
      " 0.159 0.159 0.159 0.158 0.158 0.158 0.158 0.158]\n",
      "\n",
      "\n",
      "test-Logloss-std:\n",
      "[0.004 0.008 0.006 0.007 0.007 0.007 0.008 0.008 0.008 0.008 0.008 0.008\n",
      " 0.008 0.007 0.007 0.007 0.007 0.007 0.007 0.008 0.008 0.007 0.008 0.007\n",
      " 0.008 0.008 0.008 0.008 0.008 0.008 0.008 0.008 0.008 0.008 0.008 0.008\n",
      " 0.008 0.008 0.008 0.009 0.009 0.009 0.009 0.009 0.009 0.009 0.009 0.009\n",
      " 0.009 0.009 0.009 0.009 0.009 0.009 0.009 0.009 0.009 0.009 0.009 0.01\n",
      " 0.01  0.01  0.01  0.01  0.01  0.01  0.01  0.01  0.01  0.01  0.01  0.01\n",
      " 0.01  0.01  0.01  0.01  0.01  0.011 0.011 0.011]\n",
      "\n",
      "\n",
      "train-Logloss-mean:\n",
      "[0.302 0.228 0.196 0.186 0.181 0.178 0.175 0.174 0.173 0.172 0.171 0.17\n",
      " 0.17  0.169 0.169 0.168 0.168 0.167 0.167 0.166 0.165 0.165 0.165 0.164\n",
      " 0.164 0.163 0.163 0.163 0.162 0.162 0.161 0.161 0.16  0.16  0.16  0.159\n",
      " 0.159 0.158 0.158 0.158 0.157 0.157 0.156 0.156 0.156 0.155 0.155 0.155\n",
      " 0.154 0.154 0.153 0.153 0.152 0.152 0.152 0.151 0.151 0.151 0.15  0.15\n",
      " 0.149 0.149 0.149 0.148 0.148 0.148 0.147 0.147 0.147 0.147 0.146 0.146\n",
      " 0.145 0.145 0.145 0.145 0.144 0.144 0.144 0.143]\n",
      "\n",
      "\n",
      "train-Logloss-std:\n",
      "[0.005 0.005 0.004 0.004 0.002 0.003 0.003 0.002 0.002 0.002 0.002 0.002\n",
      " 0.002 0.002 0.002 0.002 0.002 0.002 0.002 0.002 0.002 0.002 0.002 0.002\n",
      " 0.002 0.002 0.002 0.002 0.003 0.003 0.003 0.003 0.002 0.002 0.002 0.002\n",
      " 0.002 0.002 0.002 0.003 0.002 0.003 0.002 0.003 0.003 0.003 0.003 0.003\n",
      " 0.003 0.003 0.003 0.003 0.003 0.003 0.003 0.003 0.003 0.003 0.003 0.003\n",
      " 0.003 0.002 0.002 0.003 0.002 0.003 0.003 0.003 0.003 0.003 0.003 0.002\n",
      " 0.003 0.002 0.003 0.003 0.003 0.003 0.003 0.003]\n",
      "\n",
      "\n",
      "test-AUC-mean:\n",
      "[0.514 0.64  0.798 0.815 0.827 0.837 0.844 0.846 0.848 0.847 0.848 0.85\n",
      " 0.851 0.852 0.852 0.853 0.853 0.853 0.853 0.853 0.853 0.854 0.854 0.854\n",
      " 0.854 0.855 0.856 0.856 0.856 0.856 0.856 0.856 0.856 0.857 0.857 0.857\n",
      " 0.857 0.857 0.858 0.858 0.857 0.857 0.857 0.857 0.857 0.856 0.856 0.856\n",
      " 0.857 0.857 0.857 0.857 0.857 0.857 0.857 0.857 0.857 0.857 0.857 0.857\n",
      " 0.857 0.857 0.857 0.857 0.857 0.858 0.857 0.857 0.857 0.856 0.856 0.856\n",
      " 0.856 0.856 0.856 0.856 0.856 0.856 0.856 0.856]\n",
      "\n",
      "\n",
      "test-AUC-std:\n",
      "[0.03  0.047 0.012 0.01  0.005 0.008 0.007 0.007 0.006 0.007 0.006 0.006\n",
      " 0.006 0.006 0.005 0.005 0.005 0.006 0.006 0.006 0.006 0.006 0.006 0.006\n",
      " 0.006 0.006 0.006 0.007 0.006 0.007 0.006 0.006 0.006 0.006 0.006 0.006\n",
      " 0.006 0.006 0.006 0.007 0.006 0.006 0.006 0.006 0.006 0.007 0.007 0.006\n",
      " 0.006 0.006 0.006 0.006 0.007 0.007 0.006 0.007 0.007 0.007 0.007 0.008\n",
      " 0.008 0.008 0.008 0.008 0.008 0.008 0.008 0.008 0.009 0.009 0.009 0.008\n",
      " 0.009 0.009 0.009 0.009 0.009 0.009 0.01  0.01 ]\n",
      "\n",
      "\n"
     ]
    }
   ],
   "source": [
    "import numpy as np\n",
    "np.set_printoptions(precision=3)\n",
    "\n",
    "for name, values in cv_data.items():\n",
    "    print (name + ':')\n",
    "    print (np.array(values))\n",
    "    print ('\\n')"
   ]
  },
  {
   "cell_type": "code",
   "execution_count": 21,
   "metadata": {
    "collapsed": true
   },
   "outputs": [
    {
     "name": "stdout",
     "output_type": "stream",
     "text": [
      "Best validation AUC score: 0.86±0.01 on step 39\n"
     ]
    }
   ],
   "source": [
    "best_value = np.max(cv_data['test-AUC-mean'])\n",
    "best_iter = np.argmax(cv_data['test-AUC-mean'])\n",
    "print ('Best validation AUC score: {:.2f}±{:.2f} on step {}'.format(\n",
    "    best_value,\n",
    "    cv_data['test-AUC-std'][best_iter],\n",
    "    best_iter\n",
    "))"
   ]
  },
  {
   "cell_type": "markdown",
   "metadata": {},
   "source": [
    "# Подбор параметров"
   ]
  },
  {
   "cell_type": "code",
   "execution_count": 22,
   "metadata": {
    "collapsed": true
   },
   "outputs": [
    {
     "data": {
      "application/vnd.jupyter.widget-view+json": {
       "model_id": "242ebe9087b24b3b91bd4318b6e8522e",
       "version_major": 2,
       "version_minor": 0
      },
      "text/plain": [
       "MetricVisualizer(layout=Layout(align_self='stretch', height='500px'))"
      ]
     },
     "metadata": {},
     "output_type": "display_data"
    },
    {
     "data": {
      "text/plain": [
       "<catboost.core.CatBoostClassifier at 0x24cf9e89c50>"
      ]
     },
     "execution_count": 22,
     "metadata": {},
     "output_type": "execute_result"
    }
   ],
   "source": [
    "best_model = CatBoostClassifier(\n",
    "    iterations=1500,\n",
    "    learning_rate=0.01,\n",
    "    l2_leaf_reg=3,\n",
    "    bagging_temperature=1,\n",
    "    random_strength=1,\n",
    "    one_hot_max_size=0,\n",
    "    random_seed=63,\n",
    "    use_best_model=True\n",
    ")\n",
    "best_model.fit(\n",
    "    X_train, y_train,\n",
    "    cat_features=cat_features,\n",
    "    eval_set=(X_validation, y_validation),\n",
    "    logging_level='Silent',\n",
    "    plot=True\n",
    ")"
   ]
  },
  {
   "cell_type": "markdown",
   "metadata": {},
   "source": [
    "## Детектор переобучения"
   ]
  },
  {
   "cell_type": "code",
   "execution_count": 23,
   "metadata": {
    "collapsed": true
   },
   "outputs": [
    {
     "data": {
      "application/vnd.jupyter.widget-view+json": {
       "model_id": "8855bc6867d3459ca6a36e1d50d1d504",
       "version_major": 2,
       "version_minor": 0
      },
      "text/plain": [
       "MetricVisualizer(layout=Layout(align_self='stretch', height='500px'))"
      ]
     },
     "metadata": {},
     "output_type": "display_data"
    },
    {
     "data": {
      "text/plain": [
       "<catboost.core.CatBoostClassifier at 0x24cfb7c0950>"
      ]
     },
     "execution_count": 23,
     "metadata": {},
     "output_type": "execute_result"
    }
   ],
   "source": [
    "model_full = CatBoostClassifier(\n",
    "    eval_metric='AUC',\n",
    "    learning_rate=0.8,\n",
    "    iterations=500,\n",
    "    random_seed=42\n",
    ")\n",
    "model_full.fit(\n",
    "    X_train, y_train,\n",
    "    eval_set=(X_validation, y_validation),\n",
    "    cat_features=cat_features,\n",
    "    logging_level='Silent',\n",
    "    plot=True\n",
    ")"
   ]
  },
  {
   "cell_type": "code",
   "execution_count": 24,
   "metadata": {
    "collapsed": true
   },
   "outputs": [
    {
     "data": {
      "application/vnd.jupyter.widget-view+json": {
       "model_id": "4dd11ed53b0e4bb5b95fbc913cf39962",
       "version_major": 2,
       "version_minor": 0
      },
      "text/plain": [
       "MetricVisualizer(layout=Layout(align_self='stretch', height='500px'))"
      ]
     },
     "metadata": {},
     "output_type": "display_data"
    },
    {
     "data": {
      "text/plain": [
       "<catboost.core.CatBoostClassifier at 0x24cf9dff3d0>"
      ]
     },
     "execution_count": 24,
     "metadata": {},
     "output_type": "execute_result"
    }
   ],
   "source": [
    "model_with_earlystop = CatBoostClassifier(\n",
    "    eval_metric='AUC',\n",
    "    learning_rate=0.8,\n",
    "    iterations=500,\n",
    "    random_seed=42,\n",
    "    od_type='Iter',\n",
    "    od_wait=20\n",
    ")\n",
    "\n",
    "model_with_earlystop.fit(\n",
    "    X_train, y_train,\n",
    "    eval_set=(X_validation, y_validation),\n",
    "    cat_features=cat_features,\n",
    "    logging_level='Silent',\n",
    "    plot=True\n",
    ")"
   ]
  },
  {
   "cell_type": "code",
   "execution_count": 25,
   "metadata": {
    "collapsed": true
   },
   "outputs": [
    {
     "data": {
      "application/vnd.jupyter.widget-view+json": {
       "model_id": "1035fdcee59a459494fba5263a42db2d",
       "version_major": 2,
       "version_minor": 0
      },
      "text/plain": [
       "MetricVisualizer(layout=Layout(align_self='stretch', height='500px'))"
      ]
     },
     "metadata": {},
     "output_type": "display_data"
    },
    {
     "data": {
      "text/plain": [
       "<catboost.core.CatBoostClassifier at 0x24cf9d1e210>"
      ]
     },
     "execution_count": 25,
     "metadata": {},
     "output_type": "execute_result"
    }
   ],
   "source": [
    "model_with_trunk = CatBoostClassifier(\n",
    "    eval_metric='AUC',\n",
    "    learning_rate=0.8,\n",
    "    iterations=500,\n",
    "    random_seed=42,\n",
    "    od_type='Iter',\n",
    "    od_wait=20,\n",
    "    use_best_model=True\n",
    ")\n",
    "\n",
    "model_with_trunk.fit(\n",
    "    X_train, y_train,\n",
    "    eval_set=(X_validation, y_validation),\n",
    "    cat_features=cat_features,\n",
    "    logging_level='Silent',\n",
    "    plot=True\n",
    ")"
   ]
  },
  {
   "cell_type": "code",
   "execution_count": 26,
   "metadata": {
    "collapsed": true
   },
   "outputs": [
    {
     "name": "stdout",
     "output_type": "stream",
     "text": [
      "Original model tree count: 235\n",
      "Early-stopped model tree count: 17\n",
      "Trunkated model tree count: 17\n"
     ]
    }
   ],
   "source": [
    "print ('Original model tree count:', model.tree_count_)\n",
    "print ('Early-stopped model tree count:', model_with_earlystop.tree_count_)\n",
    "print ('Trunkated model tree count:', model_with_trunk.tree_count_)"
   ]
  },
  {
   "cell_type": "markdown",
   "metadata": {},
   "source": [
    "## Сравнение нескольких моделей"
   ]
  },
  {
   "cell_type": "code",
   "execution_count": 27,
   "metadata": {
    "collapsed": true
   },
   "outputs": [],
   "source": [
    "model1 = CatBoostClassifier(\n",
    "    learning_rate=0.9,\n",
    "    iterations=100,\n",
    "    train_dir='learing_rate_0.9',\n",
    "    name='learing_rate_0.9'\n",
    ")\n",
    "\n",
    "model2 = CatBoostClassifier(\n",
    "    learning_rate=0.1,\n",
    "    iterations=100,\n",
    "    train_dir='learing_rate_0.1',\n",
    "    name='learning_rate_0.1'\n",
    ")"
   ]
  },
  {
   "cell_type": "code",
   "execution_count": 28,
   "metadata": {
    "collapsed": true,
    "scrolled": true
   },
   "outputs": [
    {
     "name": "stdout",
     "output_type": "stream",
     "text": [
      "0:\tlearn: 0.2766015\ttest: 0.2773871\tbest: 0.2773871 (0)\ttotal: 20.6ms\tremaining: 2.04s\n",
      "1:\tlearn: 0.2211736\ttest: 0.2219929\tbest: 0.2219929 (1)\ttotal: 47.9ms\tremaining: 2.35s\n",
      "2:\tlearn: 0.1928008\ttest: 0.1836306\tbest: 0.1836306 (2)\ttotal: 75.1ms\tremaining: 2.43s\n",
      "3:\tlearn: 0.1871643\ttest: 0.1775831\tbest: 0.1775831 (3)\ttotal: 100ms\tremaining: 2.4s\n",
      "4:\tlearn: 0.1822635\ttest: 0.1728024\tbest: 0.1728024 (4)\ttotal: 126ms\tremaining: 2.39s\n",
      "5:\tlearn: 0.1792784\ttest: 0.1686609\tbest: 0.1686609 (5)\ttotal: 151ms\tremaining: 2.36s\n",
      "6:\tlearn: 0.1785669\ttest: 0.1685862\tbest: 0.1685862 (6)\ttotal: 177ms\tremaining: 2.35s\n",
      "7:\tlearn: 0.1766385\ttest: 0.1654709\tbest: 0.1654709 (7)\ttotal: 201ms\tremaining: 2.31s\n",
      "8:\tlearn: 0.1754529\ttest: 0.1654948\tbest: 0.1654709 (7)\ttotal: 226ms\tremaining: 2.29s\n",
      "9:\tlearn: 0.1745383\ttest: 0.1652455\tbest: 0.1652455 (9)\ttotal: 263ms\tremaining: 2.37s\n",
      "10:\tlearn: 0.1732515\ttest: 0.1644654\tbest: 0.1644654 (10)\ttotal: 300ms\tremaining: 2.43s\n",
      "11:\tlearn: 0.1726837\ttest: 0.1642513\tbest: 0.1642513 (11)\ttotal: 328ms\tremaining: 2.41s\n",
      "12:\tlearn: 0.1718656\ttest: 0.1640660\tbest: 0.1640660 (12)\ttotal: 357ms\tremaining: 2.39s\n",
      "13:\tlearn: 0.1705250\ttest: 0.1639052\tbest: 0.1639052 (13)\ttotal: 385ms\tremaining: 2.36s\n",
      "14:\tlearn: 0.1701074\ttest: 0.1630381\tbest: 0.1630381 (14)\ttotal: 413ms\tremaining: 2.34s\n",
      "15:\tlearn: 0.1697268\ttest: 0.1634872\tbest: 0.1630381 (14)\ttotal: 443ms\tremaining: 2.32s\n",
      "16:\tlearn: 0.1691588\ttest: 0.1633465\tbest: 0.1630381 (14)\ttotal: 470ms\tremaining: 2.29s\n",
      "17:\tlearn: 0.1684085\ttest: 0.1636272\tbest: 0.1630381 (14)\ttotal: 498ms\tremaining: 2.27s\n",
      "18:\tlearn: 0.1677761\ttest: 0.1639325\tbest: 0.1630381 (14)\ttotal: 524ms\tremaining: 2.23s\n",
      "19:\tlearn: 0.1672251\ttest: 0.1630039\tbest: 0.1630039 (19)\ttotal: 549ms\tremaining: 2.2s\n",
      "20:\tlearn: 0.1669992\ttest: 0.1627690\tbest: 0.1627690 (20)\ttotal: 577ms\tremaining: 2.17s\n",
      "21:\tlearn: 0.1668008\ttest: 0.1628337\tbest: 0.1627690 (20)\ttotal: 602ms\tremaining: 2.13s\n",
      "22:\tlearn: 0.1664615\ttest: 0.1623800\tbest: 0.1623800 (22)\ttotal: 629ms\tremaining: 2.11s\n",
      "23:\tlearn: 0.1660149\ttest: 0.1615433\tbest: 0.1615433 (23)\ttotal: 662ms\tremaining: 2.1s\n",
      "24:\tlearn: 0.1651283\ttest: 0.1611248\tbest: 0.1611248 (24)\ttotal: 690ms\tremaining: 2.07s\n",
      "25:\tlearn: 0.1649542\ttest: 0.1612990\tbest: 0.1611248 (24)\ttotal: 718ms\tremaining: 2.04s\n",
      "26:\tlearn: 0.1644637\ttest: 0.1618242\tbest: 0.1611248 (24)\ttotal: 743ms\tremaining: 2.01s\n",
      "27:\tlearn: 0.1640942\ttest: 0.1621730\tbest: 0.1611248 (24)\ttotal: 770ms\tremaining: 1.98s\n",
      "28:\tlearn: 0.1638029\ttest: 0.1623166\tbest: 0.1611248 (24)\ttotal: 793ms\tremaining: 1.94s\n",
      "29:\tlearn: 0.1636694\ttest: 0.1623878\tbest: 0.1611248 (24)\ttotal: 829ms\tremaining: 1.94s\n",
      "30:\tlearn: 0.1629935\ttest: 0.1622757\tbest: 0.1611248 (24)\ttotal: 858ms\tremaining: 1.91s\n",
      "31:\tlearn: 0.1625832\ttest: 0.1618074\tbest: 0.1611248 (24)\ttotal: 886ms\tremaining: 1.88s\n",
      "32:\tlearn: 0.1624081\ttest: 0.1618310\tbest: 0.1611248 (24)\ttotal: 913ms\tremaining: 1.85s\n",
      "33:\tlearn: 0.1623336\ttest: 0.1619619\tbest: 0.1611248 (24)\ttotal: 940ms\tremaining: 1.82s\n",
      "34:\tlearn: 0.1619611\ttest: 0.1617503\tbest: 0.1611248 (24)\ttotal: 965ms\tremaining: 1.79s\n",
      "35:\tlearn: 0.1613435\ttest: 0.1617007\tbest: 0.1611248 (24)\ttotal: 1s\tremaining: 1.78s\n",
      "36:\tlearn: 0.1610223\ttest: 0.1618129\tbest: 0.1611248 (24)\ttotal: 1.03s\tremaining: 1.75s\n",
      "37:\tlearn: 0.1606433\ttest: 0.1622253\tbest: 0.1611248 (24)\ttotal: 1.05s\tremaining: 1.72s\n",
      "38:\tlearn: 0.1604187\ttest: 0.1622204\tbest: 0.1611248 (24)\ttotal: 1.08s\tremaining: 1.69s\n",
      "39:\tlearn: 0.1603517\ttest: 0.1623301\tbest: 0.1611248 (24)\ttotal: 1.11s\tremaining: 1.67s\n",
      "40:\tlearn: 0.1599361\ttest: 0.1624712\tbest: 0.1611248 (24)\ttotal: 1.17s\tremaining: 1.69s\n",
      "41:\tlearn: 0.1595777\ttest: 0.1623294\tbest: 0.1611248 (24)\ttotal: 1.21s\tremaining: 1.68s\n",
      "42:\tlearn: 0.1595704\ttest: 0.1623497\tbest: 0.1611248 (24)\ttotal: 1.26s\tremaining: 1.67s\n",
      "43:\tlearn: 0.1593955\ttest: 0.1626181\tbest: 0.1611248 (24)\ttotal: 1.29s\tremaining: 1.64s\n",
      "44:\tlearn: 0.1584730\ttest: 0.1626575\tbest: 0.1611248 (24)\ttotal: 1.31s\tremaining: 1.6s\n",
      "45:\tlearn: 0.1583900\ttest: 0.1627498\tbest: 0.1611248 (24)\ttotal: 1.34s\tremaining: 1.57s\n",
      "46:\tlearn: 0.1582054\ttest: 0.1627755\tbest: 0.1611248 (24)\ttotal: 1.37s\tremaining: 1.54s\n",
      "47:\tlearn: 0.1579509\ttest: 0.1629916\tbest: 0.1611248 (24)\ttotal: 1.39s\tremaining: 1.51s\n",
      "48:\tlearn: 0.1579253\ttest: 0.1630569\tbest: 0.1611248 (24)\ttotal: 1.42s\tremaining: 1.48s\n",
      "49:\tlearn: 0.1578172\ttest: 0.1631314\tbest: 0.1611248 (24)\ttotal: 1.44s\tremaining: 1.44s\n",
      "50:\tlearn: 0.1577724\ttest: 0.1631306\tbest: 0.1611248 (24)\ttotal: 1.47s\tremaining: 1.41s\n",
      "51:\tlearn: 0.1577573\ttest: 0.1631478\tbest: 0.1611248 (24)\ttotal: 1.49s\tremaining: 1.38s\n",
      "52:\tlearn: 0.1576673\ttest: 0.1631948\tbest: 0.1611248 (24)\ttotal: 1.52s\tremaining: 1.35s\n",
      "53:\tlearn: 0.1574198\ttest: 0.1629167\tbest: 0.1611248 (24)\ttotal: 1.54s\tremaining: 1.31s\n",
      "54:\tlearn: 0.1561327\ttest: 0.1623808\tbest: 0.1611248 (24)\ttotal: 1.57s\tremaining: 1.28s\n",
      "55:\tlearn: 0.1554801\ttest: 0.1622123\tbest: 0.1611248 (24)\ttotal: 1.59s\tremaining: 1.25s\n",
      "56:\tlearn: 0.1552440\ttest: 0.1620215\tbest: 0.1611248 (24)\ttotal: 1.62s\tremaining: 1.22s\n",
      "57:\tlearn: 0.1549217\ttest: 0.1625491\tbest: 0.1611248 (24)\ttotal: 1.65s\tremaining: 1.19s\n",
      "58:\tlearn: 0.1547487\ttest: 0.1626661\tbest: 0.1611248 (24)\ttotal: 1.67s\tremaining: 1.16s\n",
      "59:\tlearn: 0.1541825\ttest: 0.1627191\tbest: 0.1611248 (24)\ttotal: 1.7s\tremaining: 1.13s\n",
      "60:\tlearn: 0.1539397\ttest: 0.1629536\tbest: 0.1611248 (24)\ttotal: 1.72s\tremaining: 1.1s\n",
      "61:\tlearn: 0.1537140\ttest: 0.1627708\tbest: 0.1611248 (24)\ttotal: 1.75s\tremaining: 1.07s\n",
      "62:\tlearn: 0.1535668\ttest: 0.1627114\tbest: 0.1611248 (24)\ttotal: 1.77s\tremaining: 1.04s\n",
      "63:\tlearn: 0.1532972\ttest: 0.1623237\tbest: 0.1611248 (24)\ttotal: 1.81s\tremaining: 1.02s\n",
      "64:\tlearn: 0.1532165\ttest: 0.1624796\tbest: 0.1611248 (24)\ttotal: 1.83s\tremaining: 988ms\n",
      "65:\tlearn: 0.1532090\ttest: 0.1624660\tbest: 0.1611248 (24)\ttotal: 1.86s\tremaining: 957ms\n",
      "66:\tlearn: 0.1528812\ttest: 0.1625483\tbest: 0.1611248 (24)\ttotal: 1.89s\tremaining: 928ms\n",
      "67:\tlearn: 0.1527185\ttest: 0.1624283\tbest: 0.1611248 (24)\ttotal: 1.91s\tremaining: 899ms\n",
      "68:\tlearn: 0.1526076\ttest: 0.1622560\tbest: 0.1611248 (24)\ttotal: 1.94s\tremaining: 870ms\n",
      "69:\tlearn: 0.1525040\ttest: 0.1623384\tbest: 0.1611248 (24)\ttotal: 1.96s\tremaining: 842ms\n",
      "70:\tlearn: 0.1522959\ttest: 0.1625395\tbest: 0.1611248 (24)\ttotal: 1.99s\tremaining: 814ms\n",
      "71:\tlearn: 0.1519810\ttest: 0.1623255\tbest: 0.1611248 (24)\ttotal: 2.02s\tremaining: 786ms\n",
      "72:\tlearn: 0.1518361\ttest: 0.1622554\tbest: 0.1611248 (24)\ttotal: 2.05s\tremaining: 757ms\n",
      "73:\tlearn: 0.1516942\ttest: 0.1624367\tbest: 0.1611248 (24)\ttotal: 2.07s\tremaining: 728ms\n",
      "74:\tlearn: 0.1514317\ttest: 0.1622890\tbest: 0.1611248 (24)\ttotal: 2.1s\tremaining: 699ms\n",
      "75:\tlearn: 0.1511223\ttest: 0.1625304\tbest: 0.1611248 (24)\ttotal: 2.12s\tremaining: 670ms\n",
      "76:\tlearn: 0.1508852\ttest: 0.1624999\tbest: 0.1611248 (24)\ttotal: 2.15s\tremaining: 642ms\n",
      "77:\tlearn: 0.1508838\ttest: 0.1625103\tbest: 0.1611248 (24)\ttotal: 2.17s\tremaining: 613ms\n",
      "78:\tlearn: 0.1507785\ttest: 0.1624525\tbest: 0.1611248 (24)\ttotal: 2.2s\tremaining: 585ms\n",
      "79:\tlearn: 0.1504694\ttest: 0.1623737\tbest: 0.1611248 (24)\ttotal: 2.22s\tremaining: 556ms\n",
      "80:\tlearn: 0.1503251\ttest: 0.1623533\tbest: 0.1611248 (24)\ttotal: 2.25s\tremaining: 527ms\n",
      "81:\tlearn: 0.1499396\ttest: 0.1623762\tbest: 0.1611248 (24)\ttotal: 2.27s\tremaining: 499ms\n",
      "82:\tlearn: 0.1499243\ttest: 0.1624137\tbest: 0.1611248 (24)\ttotal: 2.3s\tremaining: 471ms\n",
      "83:\tlearn: 0.1492779\ttest: 0.1620534\tbest: 0.1611248 (24)\ttotal: 2.32s\tremaining: 442ms\n",
      "84:\tlearn: 0.1491542\ttest: 0.1620373\tbest: 0.1611248 (24)\ttotal: 2.35s\tremaining: 415ms\n",
      "85:\tlearn: 0.1485324\ttest: 0.1622554\tbest: 0.1611248 (24)\ttotal: 2.37s\tremaining: 387ms\n",
      "86:\tlearn: 0.1483156\ttest: 0.1622009\tbest: 0.1611248 (24)\ttotal: 2.4s\tremaining: 358ms\n",
      "87:\tlearn: 0.1482874\ttest: 0.1622983\tbest: 0.1611248 (24)\ttotal: 2.42s\tremaining: 330ms\n",
      "88:\tlearn: 0.1481988\ttest: 0.1623588\tbest: 0.1611248 (24)\ttotal: 2.44s\tremaining: 302ms\n",
      "89:\tlearn: 0.1476264\ttest: 0.1625706\tbest: 0.1611248 (24)\ttotal: 2.47s\tremaining: 274ms\n",
      "90:\tlearn: 0.1472101\ttest: 0.1626698\tbest: 0.1611248 (24)\ttotal: 2.5s\tremaining: 247ms\n",
      "91:\tlearn: 0.1469350\ttest: 0.1625885\tbest: 0.1611248 (24)\ttotal: 2.52s\tremaining: 219ms\n",
      "92:\tlearn: 0.1468027\ttest: 0.1626208\tbest: 0.1611248 (24)\ttotal: 2.55s\tremaining: 192ms\n",
      "93:\tlearn: 0.1464667\ttest: 0.1628972\tbest: 0.1611248 (24)\ttotal: 2.57s\tremaining: 164ms\n",
      "94:\tlearn: 0.1462572\ttest: 0.1628537\tbest: 0.1611248 (24)\ttotal: 2.6s\tremaining: 137ms\n",
      "95:\tlearn: 0.1454582\ttest: 0.1635152\tbest: 0.1611248 (24)\ttotal: 2.62s\tremaining: 109ms\n",
      "96:\tlearn: 0.1454018\ttest: 0.1638642\tbest: 0.1611248 (24)\ttotal: 2.65s\tremaining: 81.9ms\n",
      "97:\tlearn: 0.1452407\ttest: 0.1637444\tbest: 0.1611248 (24)\ttotal: 2.67s\tremaining: 54.5ms\n",
      "98:\tlearn: 0.1451850\ttest: 0.1637211\tbest: 0.1611248 (24)\ttotal: 2.7s\tremaining: 27.3ms\n",
      "99:\tlearn: 0.1449091\ttest: 0.1634791\tbest: 0.1611248 (24)\ttotal: 2.73s\tremaining: 0us\n",
      "\n",
      "bestTest = 0.1611247944\n",
      "bestIteration = 24\n",
      "\n",
      "Shrink model to first 25 iterations.\n",
      "0:\tlearn: 0.6187986\ttest: 0.6188477\tbest: 0.6188477 (0)\ttotal: 20.2ms\tremaining: 2s\n",
      "1:\tlearn: 0.5582870\ttest: 0.5582008\tbest: 0.5582008 (1)\ttotal: 48.2ms\tremaining: 2.36s\n",
      "2:\tlearn: 0.5078749\ttest: 0.5078578\tbest: 0.5078578 (2)\ttotal: 69.8ms\tremaining: 2.25s\n",
      "3:\tlearn: 0.4657189\ttest: 0.4657662\tbest: 0.4657662 (3)\ttotal: 79.2ms\tremaining: 1.9s\n",
      "4:\tlearn: 0.4301404\ttest: 0.4302506\tbest: 0.4302506 (4)\ttotal: 86.6ms\tremaining: 1.65s\n",
      "5:\tlearn: 0.3998268\ttest: 0.3996201\tbest: 0.3996201 (5)\ttotal: 97.6ms\tremaining: 1.53s\n",
      "6:\tlearn: 0.3739561\ttest: 0.3738475\tbest: 0.3738475 (6)\ttotal: 110ms\tremaining: 1.46s\n",
      "7:\tlearn: 0.3517813\ttest: 0.3515767\tbest: 0.3515767 (7)\ttotal: 130ms\tremaining: 1.49s\n",
      "8:\tlearn: 0.3324594\ttest: 0.3323511\tbest: 0.3323511 (8)\ttotal: 144ms\tremaining: 1.46s\n",
      "9:\tlearn: 0.3158571\ttest: 0.3158043\tbest: 0.3158043 (9)\ttotal: 158ms\tremaining: 1.42s\n",
      "10:\tlearn: 0.3016576\ttest: 0.3016056\tbest: 0.3016056 (10)\ttotal: 178ms\tremaining: 1.44s\n",
      "11:\tlearn: 0.2892300\ttest: 0.2892693\tbest: 0.2892693 (11)\ttotal: 195ms\tremaining: 1.43s\n",
      "12:\tlearn: 0.2782161\ttest: 0.2782819\tbest: 0.2782819 (12)\ttotal: 221ms\tremaining: 1.48s\n",
      "13:\tlearn: 0.2692206\ttest: 0.2693430\tbest: 0.2693430 (13)\ttotal: 232ms\tremaining: 1.43s\n",
      "14:\tlearn: 0.2600913\ttest: 0.2604641\tbest: 0.2604641 (14)\ttotal: 262ms\tremaining: 1.49s\n",
      "15:\tlearn: 0.2524844\ttest: 0.2529989\tbest: 0.2529989 (15)\ttotal: 288ms\tremaining: 1.51s\n",
      "16:\tlearn: 0.2451805\ttest: 0.2455516\tbest: 0.2455516 (16)\ttotal: 314ms\tremaining: 1.53s\n",
      "17:\tlearn: 0.2390447\ttest: 0.2392928\tbest: 0.2392928 (17)\ttotal: 339ms\tremaining: 1.54s\n",
      "18:\tlearn: 0.2338395\ttest: 0.2339956\tbest: 0.2339956 (18)\ttotal: 363ms\tremaining: 1.55s\n",
      "19:\tlearn: 0.2291889\ttest: 0.2294361\tbest: 0.2294361 (19)\ttotal: 388ms\tremaining: 1.55s\n",
      "20:\tlearn: 0.2230326\ttest: 0.2225329\tbest: 0.2225329 (20)\ttotal: 407ms\tremaining: 1.53s\n",
      "21:\tlearn: 0.2176174\ttest: 0.2163967\tbest: 0.2163967 (21)\ttotal: 433ms\tremaining: 1.54s\n",
      "22:\tlearn: 0.2127043\ttest: 0.2106998\tbest: 0.2106998 (22)\ttotal: 463ms\tremaining: 1.55s\n",
      "23:\tlearn: 0.2085907\ttest: 0.2061268\tbest: 0.2061268 (23)\ttotal: 489ms\tremaining: 1.55s\n",
      "24:\tlearn: 0.2049418\ttest: 0.2017051\tbest: 0.2017051 (24)\ttotal: 515ms\tremaining: 1.54s\n",
      "25:\tlearn: 0.2020436\ttest: 0.1983125\tbest: 0.1983125 (25)\ttotal: 526ms\tremaining: 1.5s\n",
      "26:\tlearn: 0.1991169\ttest: 0.1947843\tbest: 0.1947843 (26)\ttotal: 551ms\tremaining: 1.49s\n",
      "27:\tlearn: 0.1970451\ttest: 0.1923076\tbest: 0.1923076 (27)\ttotal: 574ms\tremaining: 1.48s\n",
      "28:\tlearn: 0.1951012\ttest: 0.1897521\tbest: 0.1897521 (28)\ttotal: 599ms\tremaining: 1.47s\n",
      "29:\tlearn: 0.1933560\ttest: 0.1873527\tbest: 0.1873527 (29)\ttotal: 621ms\tremaining: 1.45s\n",
      "30:\tlearn: 0.1910987\ttest: 0.1848081\tbest: 0.1848081 (30)\ttotal: 646ms\tremaining: 1.44s\n",
      "31:\tlearn: 0.1894531\ttest: 0.1827317\tbest: 0.1827317 (31)\ttotal: 674ms\tremaining: 1.43s\n",
      "32:\tlearn: 0.1876624\ttest: 0.1804964\tbest: 0.1804964 (32)\ttotal: 698ms\tremaining: 1.42s\n",
      "33:\tlearn: 0.1862633\ttest: 0.1788425\tbest: 0.1788425 (33)\ttotal: 722ms\tremaining: 1.4s\n",
      "34:\tlearn: 0.1851620\ttest: 0.1774508\tbest: 0.1774508 (34)\ttotal: 749ms\tremaining: 1.39s\n",
      "35:\tlearn: 0.1843316\ttest: 0.1765307\tbest: 0.1765307 (35)\ttotal: 777ms\tremaining: 1.38s\n",
      "36:\tlearn: 0.1832036\ttest: 0.1751653\tbest: 0.1751653 (36)\ttotal: 807ms\tremaining: 1.37s\n",
      "37:\tlearn: 0.1823190\ttest: 0.1739823\tbest: 0.1739823 (37)\ttotal: 833ms\tremaining: 1.36s\n",
      "38:\tlearn: 0.1814632\ttest: 0.1729640\tbest: 0.1729640 (38)\ttotal: 860ms\tremaining: 1.34s\n",
      "39:\tlearn: 0.1806953\ttest: 0.1719328\tbest: 0.1719328 (39)\ttotal: 887ms\tremaining: 1.33s\n",
      "40:\tlearn: 0.1798404\ttest: 0.1708423\tbest: 0.1708423 (40)\ttotal: 914ms\tremaining: 1.31s\n",
      "41:\tlearn: 0.1789173\ttest: 0.1698409\tbest: 0.1698409 (41)\ttotal: 939ms\tremaining: 1.3s\n",
      "42:\tlearn: 0.1782653\ttest: 0.1690854\tbest: 0.1690854 (42)\ttotal: 968ms\tremaining: 1.28s\n",
      "43:\tlearn: 0.1776537\ttest: 0.1683334\tbest: 0.1683334 (43)\ttotal: 995ms\tremaining: 1.27s\n",
      "44:\tlearn: 0.1771904\ttest: 0.1678934\tbest: 0.1678934 (44)\ttotal: 1.02s\tremaining: 1.25s\n",
      "45:\tlearn: 0.1767650\ttest: 0.1673233\tbest: 0.1673233 (45)\ttotal: 1.05s\tremaining: 1.24s\n",
      "46:\tlearn: 0.1763934\ttest: 0.1669073\tbest: 0.1669073 (46)\ttotal: 1.08s\tremaining: 1.22s\n",
      "47:\tlearn: 0.1758954\ttest: 0.1662562\tbest: 0.1662562 (47)\ttotal: 1.11s\tremaining: 1.2s\n",
      "48:\tlearn: 0.1755915\ttest: 0.1657445\tbest: 0.1657445 (48)\ttotal: 1.13s\tremaining: 1.18s\n",
      "49:\tlearn: 0.1752262\ttest: 0.1652956\tbest: 0.1652956 (49)\ttotal: 1.16s\tremaining: 1.16s\n",
      "50:\tlearn: 0.1747465\ttest: 0.1646677\tbest: 0.1646677 (50)\ttotal: 1.2s\tremaining: 1.15s\n",
      "51:\tlearn: 0.1745038\ttest: 0.1642227\tbest: 0.1642227 (51)\ttotal: 1.24s\tremaining: 1.15s\n",
      "52:\tlearn: 0.1741465\ttest: 0.1638707\tbest: 0.1638707 (52)\ttotal: 1.29s\tremaining: 1.15s\n",
      "53:\tlearn: 0.1741155\ttest: 0.1638407\tbest: 0.1638407 (53)\ttotal: 1.3s\tremaining: 1.11s\n",
      "54:\tlearn: 0.1737811\ttest: 0.1635018\tbest: 0.1635018 (54)\ttotal: 1.33s\tremaining: 1.09s\n",
      "55:\tlearn: 0.1736129\ttest: 0.1632915\tbest: 0.1632915 (55)\ttotal: 1.36s\tremaining: 1.07s\n",
      "56:\tlearn: 0.1733375\ttest: 0.1629559\tbest: 0.1629559 (56)\ttotal: 1.38s\tremaining: 1.04s\n",
      "57:\tlearn: 0.1732364\ttest: 0.1628470\tbest: 0.1628470 (57)\ttotal: 1.41s\tremaining: 1.02s\n",
      "58:\tlearn: 0.1730196\ttest: 0.1626300\tbest: 0.1626300 (58)\ttotal: 1.43s\tremaining: 996ms\n",
      "59:\tlearn: 0.1729047\ttest: 0.1625062\tbest: 0.1625062 (59)\ttotal: 1.46s\tremaining: 973ms\n",
      "60:\tlearn: 0.1727739\ttest: 0.1624177\tbest: 0.1624177 (60)\ttotal: 1.48s\tremaining: 949ms\n",
      "61:\tlearn: 0.1727252\ttest: 0.1624218\tbest: 0.1624177 (60)\ttotal: 1.5s\tremaining: 919ms\n",
      "62:\tlearn: 0.1726115\ttest: 0.1623364\tbest: 0.1623364 (62)\ttotal: 1.52s\tremaining: 896ms\n",
      "63:\tlearn: 0.1724396\ttest: 0.1621802\tbest: 0.1621802 (63)\ttotal: 1.55s\tremaining: 873ms\n",
      "64:\tlearn: 0.1722321\ttest: 0.1619771\tbest: 0.1619771 (64)\ttotal: 1.57s\tremaining: 848ms\n",
      "65:\tlearn: 0.1720604\ttest: 0.1619019\tbest: 0.1619019 (65)\ttotal: 1.6s\tremaining: 825ms\n",
      "66:\tlearn: 0.1719574\ttest: 0.1617233\tbest: 0.1617233 (66)\ttotal: 1.63s\tremaining: 802ms\n",
      "67:\tlearn: 0.1718518\ttest: 0.1616709\tbest: 0.1616709 (67)\ttotal: 1.66s\tremaining: 779ms\n",
      "68:\tlearn: 0.1716825\ttest: 0.1613592\tbest: 0.1613592 (68)\ttotal: 1.68s\tremaining: 756ms\n",
      "69:\tlearn: 0.1714670\ttest: 0.1612666\tbest: 0.1612666 (69)\ttotal: 1.71s\tremaining: 732ms\n",
      "70:\tlearn: 0.1714231\ttest: 0.1612715\tbest: 0.1612666 (69)\ttotal: 1.74s\tremaining: 710ms\n",
      "71:\tlearn: 0.1712858\ttest: 0.1611934\tbest: 0.1611934 (71)\ttotal: 1.76s\tremaining: 686ms\n",
      "72:\tlearn: 0.1711772\ttest: 0.1609831\tbest: 0.1609831 (72)\ttotal: 1.79s\tremaining: 661ms\n",
      "73:\tlearn: 0.1711135\ttest: 0.1609120\tbest: 0.1609120 (73)\ttotal: 1.81s\tremaining: 637ms\n",
      "74:\tlearn: 0.1710305\ttest: 0.1608045\tbest: 0.1608045 (74)\ttotal: 1.83s\tremaining: 612ms\n",
      "75:\tlearn: 0.1709237\ttest: 0.1607673\tbest: 0.1607673 (75)\ttotal: 1.86s\tremaining: 587ms\n",
      "76:\tlearn: 0.1708244\ttest: 0.1606212\tbest: 0.1606212 (76)\ttotal: 1.88s\tremaining: 560ms\n",
      "77:\tlearn: 0.1707533\ttest: 0.1605499\tbest: 0.1605499 (77)\ttotal: 1.9s\tremaining: 536ms\n",
      "78:\tlearn: 0.1707045\ttest: 0.1604309\tbest: 0.1604309 (78)\ttotal: 1.93s\tremaining: 512ms\n",
      "79:\tlearn: 0.1705683\ttest: 0.1603041\tbest: 0.1603041 (79)\ttotal: 1.95s\tremaining: 488ms\n",
      "80:\tlearn: 0.1705028\ttest: 0.1601738\tbest: 0.1601738 (80)\ttotal: 1.98s\tremaining: 464ms\n",
      "81:\tlearn: 0.1704960\ttest: 0.1601770\tbest: 0.1601738 (80)\ttotal: 1.99s\tremaining: 436ms\n",
      "82:\tlearn: 0.1703396\ttest: 0.1600718\tbest: 0.1600718 (82)\ttotal: 2.02s\tremaining: 413ms\n",
      "83:\tlearn: 0.1702847\ttest: 0.1600442\tbest: 0.1600442 (83)\ttotal: 2.04s\tremaining: 390ms\n",
      "84:\tlearn: 0.1701781\ttest: 0.1599373\tbest: 0.1599373 (84)\ttotal: 2.07s\tremaining: 366ms\n",
      "85:\tlearn: 0.1701723\ttest: 0.1599415\tbest: 0.1599373 (84)\ttotal: 2.09s\tremaining: 340ms\n",
      "86:\tlearn: 0.1701109\ttest: 0.1599162\tbest: 0.1599162 (86)\ttotal: 2.12s\tremaining: 317ms\n",
      "87:\tlearn: 0.1700626\ttest: 0.1598513\tbest: 0.1598513 (87)\ttotal: 2.15s\tremaining: 293ms\n",
      "88:\tlearn: 0.1700190\ttest: 0.1599042\tbest: 0.1598513 (87)\ttotal: 2.17s\tremaining: 269ms\n",
      "89:\tlearn: 0.1699243\ttest: 0.1598431\tbest: 0.1598431 (89)\ttotal: 2.2s\tremaining: 245ms\n",
      "90:\tlearn: 0.1698330\ttest: 0.1597336\tbest: 0.1597336 (90)\ttotal: 2.23s\tremaining: 220ms\n",
      "91:\tlearn: 0.1697978\ttest: 0.1597224\tbest: 0.1597224 (91)\ttotal: 2.25s\tremaining: 196ms\n",
      "92:\tlearn: 0.1697153\ttest: 0.1595974\tbest: 0.1595974 (92)\ttotal: 2.28s\tremaining: 172ms\n",
      "93:\tlearn: 0.1695939\ttest: 0.1595646\tbest: 0.1595646 (93)\ttotal: 2.31s\tremaining: 148ms\n",
      "94:\tlearn: 0.1695268\ttest: 0.1595059\tbest: 0.1595059 (94)\ttotal: 2.34s\tremaining: 123ms\n",
      "95:\tlearn: 0.1694835\ttest: 0.1594225\tbest: 0.1594225 (95)\ttotal: 2.37s\tremaining: 98.6ms\n",
      "96:\tlearn: 0.1694218\ttest: 0.1594246\tbest: 0.1594225 (95)\ttotal: 2.39s\tremaining: 74.1ms\n",
      "97:\tlearn: 0.1693210\ttest: 0.1593988\tbest: 0.1593988 (97)\ttotal: 2.42s\tremaining: 49.4ms\n",
      "98:\tlearn: 0.1692576\ttest: 0.1593162\tbest: 0.1593162 (98)\ttotal: 2.45s\tremaining: 24.7ms\n",
      "99:\tlearn: 0.1692006\ttest: 0.1592943\tbest: 0.1592943 (99)\ttotal: 2.48s\tremaining: 0us\n",
      "\n",
      "bestTest = 0.1592942864\n",
      "bestIteration = 99\n",
      "\n"
     ]
    },
    {
     "data": {
      "text/plain": [
       "<catboost.core.CatBoostClassifier at 0x24cfb7ea650>"
      ]
     },
     "execution_count": 28,
     "metadata": {},
     "output_type": "execute_result"
    }
   ],
   "source": [
    "model1.fit(\n",
    "    X_train, y_train,\n",
    "    eval_set=(X_validation, y_validation),\n",
    "    cat_features=cat_features,\n",
    "    logging_level='Verbose'\n",
    ")\n",
    "model2.fit(\n",
    "    X_train, y_train,\n",
    "    eval_set=(X_validation, y_validation),\n",
    "    cat_features=cat_features,\n",
    "    logging_level='Verbose'\n",
    ")"
   ]
  },
  {
   "cell_type": "code",
   "execution_count": 29,
   "metadata": {
    "collapsed": true
   },
   "outputs": [
    {
     "data": {
      "application/vnd.jupyter.widget-view+json": {
       "model_id": "fcfeb78f4b464080a0bf7fcd425b5f57",
       "version_major": 2,
       "version_minor": 0
      },
      "text/plain": [
       "MetricVisualizer(layout=Layout(align_self='stretch', height='500px'))"
      ]
     },
     "metadata": {},
     "output_type": "display_data"
    }
   ],
   "source": [
    "from catboost import MetricVisualizer\n",
    "widget = MetricVisualizer(['learing_rate_0.9', 'learing_rate_0.1'])\n",
    "widget.start()"
   ]
  },
  {
   "cell_type": "markdown",
   "metadata": {},
   "source": [
    "# Вычисление метрик на новом датасете"
   ]
  },
  {
   "cell_type": "code",
   "execution_count": 30,
   "metadata": {
    "collapsed": true
   },
   "outputs": [
    {
     "name": "stdout",
     "output_type": "stream",
     "text": [
      "[0.4998336013697382, 0.9834073159800195]\n"
     ]
    }
   ],
   "source": [
    "tree_count = model.tree_count_\n",
    "metrics = model.eval_metrics(pool1, metrics=['Logloss','AUC','Accuracy'], ntree_start=0, ntree_end=0,\n",
    "                             eval_period=tree_count, thread_count=2)\n",
    "auc = metrics['AUC']\n",
    "print (auc)"
   ]
  },
  {
   "cell_type": "markdown",
   "metadata": {},
   "source": [
    "# Важность факторов"
   ]
  },
  {
   "cell_type": "code",
   "execution_count": 31,
   "metadata": {
    "collapsed": true
   },
   "outputs": [
    {
     "name": "stdout",
     "output_type": "stream",
     "text": [
      "Feature importances: [22.689 16.494  4.728  8.927 17.648  8.115 10.893  4.563  5.942]\n",
      "Feature names: ['RESOURCE' 'MGR_ID' 'ROLE_ROLLUP_1' 'ROLE_ROLLUP_2' 'ROLE_DEPTNAME'\n",
      " 'ROLE_TITLE' 'ROLE_FAMILY_DESC' 'ROLE_FAMILY' 'ROLE_CODE']\n"
     ]
    }
   ],
   "source": [
    "# Найдем самые важные факторы\n",
    "importances = best_model.feature_importances_\n",
    "print ('Feature importances:', np.array(importances))\n",
    "print ('Feature names:', np.array(pool1.get_feature_names()))"
   ]
  },
  {
   "cell_type": "markdown",
   "metadata": {},
   "source": [
    "# Сохранение модели"
   ]
  },
  {
   "cell_type": "code",
   "execution_count": 32,
   "metadata": {
    "collapsed": true
   },
   "outputs": [
    {
     "name": "stdout",
     "output_type": "stream",
     "text": [
      "Learning rate set to 0.5\n",
      "0:\tlearn: 0.3965403\ttest: 0.3968906\tbest: 0.3968906 (0)\ttotal: 21ms\tremaining: 189ms\n",
      "1:\tlearn: 0.2940955\ttest: 0.2943532\tbest: 0.2943532 (1)\ttotal: 49.1ms\tremaining: 197ms\n",
      "2:\tlearn: 0.2433303\ttest: 0.2443831\tbest: 0.2443831 (2)\ttotal: 76.4ms\tremaining: 178ms\n",
      "3:\tlearn: 0.2193310\ttest: 0.2210140\tbest: 0.2210140 (3)\ttotal: 106ms\tremaining: 160ms\n",
      "4:\tlearn: 0.1981216\ttest: 0.1951440\tbest: 0.1951440 (4)\ttotal: 137ms\tremaining: 137ms\n",
      "5:\tlearn: 0.1894261\ttest: 0.1841792\tbest: 0.1841792 (5)\ttotal: 164ms\tremaining: 109ms\n",
      "6:\tlearn: 0.1830562\ttest: 0.1763128\tbest: 0.1763128 (6)\ttotal: 189ms\tremaining: 81.2ms\n",
      "7:\tlearn: 0.1799460\ttest: 0.1725612\tbest: 0.1725612 (7)\ttotal: 220ms\tremaining: 54.9ms\n",
      "8:\tlearn: 0.1779373\ttest: 0.1702787\tbest: 0.1702787 (8)\ttotal: 247ms\tremaining: 27.4ms\n",
      "9:\tlearn: 0.1766187\ttest: 0.1682470\tbest: 0.1682470 (9)\ttotal: 273ms\tremaining: 0us\n",
      "\n",
      "bestTest = 0.1682470454\n",
      "bestIteration = 9\n",
      "\n"
     ]
    },
    {
     "data": {
      "text/plain": [
       "<catboost.core.CatBoostClassifier at 0x24cf9fd2fd0>"
      ]
     },
     "execution_count": 32,
     "metadata": {},
     "output_type": "execute_result"
    }
   ],
   "source": [
    "my_best_model = CatBoostClassifier(iterations=10)\n",
    "my_best_model.fit(\n",
    "    X_train, y_train,\n",
    "    eval_set=(X_validation, y_validation),\n",
    "    cat_features=cat_features,\n",
    "    logging_level='Verbose'\n",
    ")"
   ]
  },
  {
   "cell_type": "code",
   "execution_count": 33,
   "metadata": {
    "collapsed": true
   },
   "outputs": [],
   "source": [
    "my_best_model.save_model('catboost_model.bin')"
   ]
  },
  {
   "cell_type": "code",
   "execution_count": 34,
   "metadata": {
    "collapsed": true
   },
   "outputs": [
    {
     "name": "stdout",
     "output_type": "stream",
     "text": [
      "{'iterations': 10, 'loss_function': 'Logloss', 'logging_level': 'Verbose'}\n"
     ]
    }
   ],
   "source": [
    "my_best_model.load_model('catboost_model.bin')\n",
    "print (my_best_model.get_params())"
   ]
  }
 ],
 "metadata": {
  "kernelspec": {
   "display_name": "Python 3",
   "language": "python",
   "name": "python3"
  },
  "language_info": {
   "codemirror_mode": {
    "name": "ipython",
    "version": 3
   },
   "file_extension": ".py",
   "mimetype": "text/x-python",
   "name": "python",
   "nbconvert_exporter": "python",
   "pygments_lexer": "ipython3",
   "version": "3.11.5"
  },
  "widgets": {
   "state": {
    "1057714ebc614324aa3ba2cf69408966": {
     "views": [
      {
       "cell_index": 17
      }
     ]
    },
    "8381e9eed05f4a03905ae8a56d7ab4ea": {
     "views": [
      {
       "cell_index": 48
      }
     ]
    },
    "f49684e8c5c44241bfe2c7f577f5cb41": {
     "views": [
      {
       "cell_index": 53
      }
     ]
    }
   },
   "version": "1.2.0"
  }
 },
 "nbformat": 4,
 "nbformat_minor": 2
}
